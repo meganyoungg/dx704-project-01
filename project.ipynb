{
  "cells": [
    {
      "cell_type": "markdown",
      "metadata": {
        "id": "DDELa7o5UXrY"
      },
      "source": [
        "# DX 704 Week 1 Project\n",
        "\n",
        "This week's project will build a portfolio risk and return model, and make investing recommendations for hypothetical clients.\n",
        "You will collect historical data, estimate returns and risks, construct efficient frontier portfolios, and sanity check the certainty of the maximum return portfolio."
      ]
    },
    {
      "cell_type": "markdown",
      "metadata": {
        "id": "P6SxppNu8p8k"
      },
      "source": [
        "The full project description and a template notebook are available on GitHub at the following link.\n",
        "\n",
        "https://github.com/bu-cds-dx704/dx704-project-01\n"
      ]
    },
    {
      "cell_type": "markdown",
      "metadata": {
        "id": "GmIaQcdCwObV"
      },
      "source": [
        "Feel free to use optimization tools or libraries (such as CVXOPT or scipy.optimize) to perform any calculations required for this mini project."
      ]
    },
    {
      "cell_type": "markdown",
      "metadata": {},
      "source": [
        "### Example Code\n",
        "\n",
        "You may find it helpful to refer to these GitHub repositories of Jupyter notebooks for example code.\n",
        "\n",
        "* https://github.com/bu-cds-omds/dx601-examples\n",
        "* https://github.com/bu-cds-omds/dx602-examples\n",
        "* https://github.com/bu-cds-omds/dx603-examples\n",
        "* https://github.com/bu-cds-omds/dx704-examples\n",
        "\n",
        "Any calculations demonstrated in code examples or videos may be found in these notebooks, and you are allowed to copy this example code in your homework answers."
      ]
    },
    {
      "cell_type": "markdown",
      "metadata": {
        "id": "pv3PslO0V5Lm"
      },
      "source": [
        "## Part 1: Collect Data\n",
        "\n",
        "Collect historical monthly price data for the last 24 months covering 6 different stocks.\n",
        "The data should cover 24 consecutive months including the last month that ended before this week's material was released on Blackboard.\n",
        "To be clear, if a month ends between the Blackboard release and submitting your project, you do not need to add that month.\n",
        "\n",
        "The six different stocks must include AAPL, SPY and TSLA.\n",
        "At least one of the remaining 3 tickers must start with the same letter as your last name (e.g. professor Considine could use COIN).\n",
        "This is to encourage diversity in what stocks you analyze; if you discuss this project with classmates, please make sure that you pick different tickers to differentiate your work.\n",
        "Do not pick stocks with fewer than 24 consecutive months of price data."
      ]
    },
    {
      "cell_type": "code",
      "execution_count": 1,
      "metadata": {
        "id": "6pL-ppubxfvC"
      },
      "outputs": [
        {
          "name": "stdout",
          "output_type": "stream",
          "text": [
            "Historical Prices Data:\n",
            "                  AAPL         SPY        TSLA       YETI        MSFT  \\\n",
            "Date                                                                    \n",
            "2023-10-31  169.113556  408.794373  200.839996  42.520000  333.090302   \n",
            "2023-11-30  188.355316  446.135223  240.080002  42.639999  374.042297   \n",
            "2023-12-31  190.913666  466.503632  248.479996  51.779999  371.209137   \n",
            "2024-01-31  182.851898  473.933411  187.289993  43.970001  392.472382   \n",
            "2024-02-29  179.461273  498.666534  201.880005  41.040001  409.081238   \n",
            "2024-03-31  170.257355  514.973938  175.789993  38.549999  416.083130   \n",
            "2024-04-30  169.115555  494.210327  183.279999  35.720001  385.039124   \n",
            "2024-05-31  191.138153  519.207275  178.080002  40.740002  411.295288   \n",
            "2024-06-30  209.401917  537.524963  197.880005  38.150002  442.821350   \n",
            "2024-07-31  220.795670  544.033936  232.070007  41.349998  414.485596   \n",
            "2024-08-31  227.939163  556.745605  214.110001  40.320000  414.031647   \n",
            "2024-09-30  231.920639  568.439880  261.630005  41.029999  427.093536   \n",
            "2024-10-31  224.863480  563.367432  249.850006  35.209999  403.322052   \n",
            "2024-11-30  236.490479  596.962952  345.160004  40.369999  421.145844   \n",
            "2024-12-31  249.534180  582.599915  403.839996  38.509998  419.196564   \n",
            "2025-01-31  235.165192  598.246460  404.600006  37.259998  412.791779   \n",
            "2025-02-28  241.249481  590.651794  292.980011  35.639999  395.612152   \n",
            "2025-03-31  221.587616  557.741150  259.160004  33.099998  374.087158   \n",
            "2025-04-30  211.981125  552.905457  282.160004  28.549999  393.888184   \n",
            "2025-05-31  200.622314  587.652771  346.459991  30.559999  459.604431   \n",
            "2025-06-30  204.937408  617.849976  317.660004  31.520000  496.593658   \n",
            "2025-07-31  207.334702  632.080017  308.269989  36.740002  532.624390   \n",
            "2025-08-31  232.139999  645.049988  333.869995  35.160000  506.690002   \n",
            "2025-09-30  238.750000  648.224976  337.290009  36.095001  506.820007   \n",
            "\n",
            "                  NVDA  \n",
            "Date                    \n",
            "2023-10-31   40.758274  \n",
            "2023-11-30   46.745087  \n",
            "2023-12-31   49.499973  \n",
            "2024-01-31   61.499630  \n",
            "2024-02-29   79.076813  \n",
            "2024-03-31   90.320045  \n",
            "2024-04-30   86.367630  \n",
            "2024-05-31  109.589378  \n",
            "2024-06-30  123.500984  \n",
            "2024-07-31  116.983040  \n",
            "2024-08-31  119.332306  \n",
            "2024-09-30  121.412033  \n",
            "2024-10-31  132.729431  \n",
            "2024-11-30  138.218170  \n",
            "2024-12-31  134.268326  \n",
            "2025-01-31  120.050621  \n",
            "2025-02-28  124.899834  \n",
            "2025-03-31  108.372475  \n",
            "2025-04-30  108.912437  \n",
            "2025-05-31  135.120621  \n",
            "2025-06-30  157.990005  \n",
            "2025-07-31  177.869995  \n",
            "2025-08-31  174.179993  \n",
            "2025-09-30  170.975006  \n"
          ]
        }
      ],
      "source": [
        "# YOUR CHANGES HERE\n",
        "import yfinance as yf\n",
        "import pandas as pd\n",
        "\n",
        "tickers = [\"AAPL\", \"SPY\", \"TSLA\", \"YETI\", \"MSFT\", \"NVDA\"]\n",
        "\n",
        "historical_prices = None\n",
        "\n",
        "for t in tickers:\n",
        "    ticker = yf.Ticker(t)\n",
        "    history = ticker.history(period=\"2y\")\n",
        "    \n",
        "   \n",
        "    monthly_prices = history['Close'].resample('ME').last()\n",
        "    \n",
        "    if historical_prices is None:\n",
        "        historical_prices = monthly_prices\n",
        "    else:\n",
        "        historical_prices = pd.concat([historical_prices, monthly_prices], axis=1)\n",
        "\n",
        "historical_prices.columns = tickers\n",
        "historical_prices.index = pd.to_datetime(historical_prices.index).strftime(\"%Y-%m-%d\")\n",
        "\n",
        "historical_prices = historical_prices.tail(24)\n",
        "print(\"Historical Prices Data:\")\n",
        "print(historical_prices)"
      ]
    },
    {
      "cell_type": "markdown",
      "metadata": {
        "id": "1uH9oDQ1rEQT"
      },
      "source": [
        "Save the data as a TSV file named \"historical_prices.tsv\" and include a header row with the column names \"date\" and the 6 stock ticker symbols.\n",
        "The date should be the last trading day of the month, so it may not be the last day of the month.\n",
        "For example, the last trading day of November 2024 was 2024-11-29.\n",
        "The remaining columns should contain the adjusted closing prices of the corresponding stock tickers on that day.\n"
      ]
    },
    {
      "cell_type": "code",
      "execution_count": 8,
      "metadata": {
        "id": "mHbwKHOhtQ3E"
      },
      "outputs": [
        {
          "name": "stdout",
          "output_type": "stream",
          "text": [
            "\n",
            "Data saved to 'historical_prices.tsv'\n"
          ]
        }
      ],
      "source": [
        "# YOUR CHANGES HERE\n",
        "historical_prices.to_csv('historical_prices.tsv', sep='\\t')\n",
        "print(\"\\nData saved to 'historical_prices.tsv'\")"
      ]
    },
    {
      "cell_type": "markdown",
      "metadata": {
        "id": "2hp0yuXPtT9V"
      },
      "source": [
        "Submit \"historical_prices.tsv\" in Gradescope."
      ]
    },
    {
      "cell_type": "markdown",
      "metadata": {
        "id": "7XdNVWWirUd5"
      },
      "source": [
        "## Part 2: Calculate Historical Asset Returns\n",
        "\n",
        "Calculate the historical asset returns based on the price data that you previously collected."
      ]
    },
    {
      "cell_type": "code",
      "execution_count": null,
      "metadata": {
        "id": "aL-kVua2xex-"
      },
      "outputs": [
        {
          "name": "stdout",
          "output_type": "stream",
          "text": [
            "Columns in your data: ['Unnamed: 0', 'Date', 'AAPL', 'SPY', 'TSLA', 'YETI', 'MSFT', 'NVDA']\n",
            "First few rows:\n",
            "   Unnamed: 0        Date        AAPL         SPY        TSLA       YETI  \\\n",
            "0           0  2023-10-31  169.113556  408.794342  200.839996  42.520000   \n",
            "1           1  2023-11-30  188.355301  446.135223  240.080002  42.639999   \n",
            "2           2  2023-12-31  190.913666  466.503662  248.479996  51.779999   \n",
            "3           3  2024-01-31  182.851913  473.933411  187.289993  43.970001   \n",
            "4           4  2024-02-29  179.461273  498.666504  201.880005  41.040001   \n",
            "\n",
            "         MSFT       NVDA  \n",
            "0  333.090363  40.758278  \n",
            "1  374.042236  46.745087  \n",
            "2  371.209137  49.499973  \n",
            "3  392.472412  61.499630  \n",
            "4  409.081207  79.076805  \n",
            "\n",
            "Numeric columns found: ['Unnamed: 0', 'AAPL', 'SPY', 'TSLA', 'YETI', 'MSFT', 'NVDA']\n",
            "\n",
            "Historical returns calculated:\n",
            "Shape: (23, 7)\n",
            "   Unnamed: 0      AAPL       SPY      TSLA      YETI      MSFT      NVDA\n",
            "1         inf  0.113780  0.091344  0.195379  0.002822  0.122945  0.146886\n",
            "2    1.000000  0.013583  0.045655  0.034988  0.214353 -0.007574  0.058934\n",
            "3    0.500000 -0.042227  0.015926 -0.246257 -0.150830  0.057281  0.242417\n",
            "4    0.333333 -0.018543  0.052187  0.077901 -0.066636  0.042318  0.285809\n",
            "5    0.250000 -0.051286  0.032702 -0.129235 -0.060673  0.017116  0.142181\n",
            "\n",
            "Final returns data with date column:\n",
            "         date      AAPL       SPY      TSLA      YETI      MSFT      NVDA\n",
            "0  2023-11-30  0.113780  0.091344  0.195379  0.002822  0.122945  0.146886\n",
            "1  2023-12-31  0.013583  0.045655  0.034988  0.214353 -0.007574  0.058934\n",
            "2  2024-01-31 -0.042227  0.015926 -0.246257 -0.150830  0.057281  0.242417\n",
            "3  2024-02-29 -0.018543  0.052187  0.077901 -0.066636  0.042318  0.285809\n",
            "4  2024-03-31 -0.051286  0.032702 -0.129235 -0.060673  0.017116  0.142181\n",
            "Shape: (23, 7)\n",
            "Columns: ['date', 'AAPL', 'SPY', 'TSLA', 'YETI', 'MSFT', 'NVDA']\n"
          ]
        }
      ],
      "source": [
        "# YOUR CHANGES HERE\n",
        "\n",
        "import pandas as pd\n",
        "import numpy as np\n",
        "\n",
        "historical_prices = pd.read_csv('historical_prices.tsv', sep='\\t')\n",
        "\n",
        "print(\"Columns in your data:\", historical_prices.columns.tolist())\n",
        "print(\"First few rows:\")\n",
        "print(historical_prices.head())\n",
        "\n",
        "numeric_columns = historical_prices.select_dtypes(include=[np.number]).columns\n",
        "print(f\"\\nNumeric columns found: {numeric_columns.tolist()}\")\n",
        "\n",
        "historical_returns = historical_prices[numeric_columns].pct_change().dropna()\n",
        "\n",
        "print(f\"\\nHistorical returns calculated:\")\n",
        "print(f\"Shape: {historical_returns.shape}\")\n",
        "print(historical_returns.head())\n",
        "\n",
        "dates_for_returns = historical_prices['Date'].iloc[1:].reset_index(drop=True)\n",
        "\n",
        "stock_columns = ['AAPL', 'SPY', 'TSLA', 'YETI', 'MSFT', 'NVDA']\n",
        "returns_only = historical_returns[stock_columns].reset_index(drop=True)\n",
        "\n",
        "returns_data = pd.concat([\n",
        "    dates_for_returns.rename('date'),  \n",
        "    returns_only\n",
        "], axis=1)\n",
        "\n",
        "print(\"\\nFinal returns data with date column:\")\n",
        "print(returns_data.head())\n",
        "print(f\"Shape: {returns_data.shape}\")\n",
        "print(f\"Columns: {returns_data.columns.tolist()}\")"
      ]
    },
    {
      "cell_type": "markdown",
      "metadata": {
        "id": "OjhEYCWOrIu3"
      },
      "source": [
        "Save the data as a TSV file named \"historical_returns.tsv\" and include a header row with the column names \"date\" and the 6 stock ticker symbols.\n",
        "Each row should have the date at the end of the month and the corresponding *relative* price changes.\n",
        "For example, if the previous price was \\$100 and the new price is \\$110, the return value should be 0.10.\n",
        "There should only be 23 rows of data in this file, since they are computed as the differences of 24 prices."
      ]
    },
    {
      "cell_type": "code",
      "execution_count": 17,
      "metadata": {
        "id": "cN-7q9QvvyKG"
      },
      "outputs": [
        {
          "name": "stdout",
          "output_type": "stream",
          "text": [
            "Historical returns saved to 'historical_returns.tsv'\n"
          ]
        }
      ],
      "source": [
        "# YOUR CHANGES HERE\n",
        "\n",
        "returns_data.to_csv('historical_returns.tsv', sep='\\t', index=False, float_format='%.6f')\n",
        "print(\"Historical returns saved to 'historical_returns.tsv'\")"
      ]
    },
    {
      "cell_type": "markdown",
      "metadata": {
        "id": "vyBtnCTUtfRq"
      },
      "source": [
        "Submit \"historical_returns.tsv\" in Gradescope."
      ]
    },
    {
      "cell_type": "markdown",
      "metadata": {
        "id": "MoCkf4ouV9IA"
      },
      "source": [
        "## Part 3: Estimate Returns\n",
        "\n",
        "Estimate the expected returns for each asset using the previously calculated return data.\n",
        "Just compute the average (mean) return for each asset over your data set; do not use other estimators that have been mentioned.\n",
        "This will serve as your estimate of expected return for each asset."
      ]
    },
    {
      "cell_type": "code",
      "execution_count": 18,
      "metadata": {
        "id": "N2iDEhSRxd2n"
      },
      "outputs": [
        {
          "name": "stdout",
          "output_type": "stream",
          "text": [
            "Historical returns data loaded:\n",
            "Shape: (23, 7)\n",
            "         date      AAPL       SPY      TSLA      YETI      MSFT      NVDA\n",
            "0  2023-11-30  0.113780  0.091344  0.195379  0.002822  0.122945  0.146886\n",
            "1  2023-12-31  0.013583  0.045655  0.034988  0.214353 -0.007574  0.058934\n",
            "2  2024-01-31 -0.042227  0.015926 -0.246257 -0.150830  0.057281  0.242417\n",
            "3  2024-02-29 -0.018543  0.052187  0.077901 -0.066636  0.042318  0.285809\n",
            "4  2024-03-31 -0.051286  0.032702 -0.129235 -0.060673  0.017116  0.142181\n",
            "\n",
            "Stock columns: ['AAPL', 'SPY', 'TSLA', 'YETI', 'MSFT', 'NVDA']\n",
            "\n",
            "Calculated mean returns:\n",
            "AAPL    0.016670\n",
            "SPY     0.020767\n",
            "TSLA    0.034135\n",
            "YETI   -0.002113\n",
            "MSFT    0.020324\n",
            "NVDA    0.070501\n",
            "dtype: float64\n",
            "\n",
            "Estimated returns (formatted for saving):\n",
            "  asset  estimated_return\n",
            "3  YETI         -0.002113\n",
            "0  AAPL          0.016670\n",
            "4  MSFT          0.020324\n",
            "1   SPY          0.020767\n",
            "2  TSLA          0.034135\n",
            "5  NVDA          0.070501\n",
            "\n",
            "Interpretation:\n",
            "YETI: -0.002113 monthly (-2.54% annualized)\n",
            "AAPL: 0.016670 monthly (20.00% annualized)\n",
            "MSFT: 0.020324 monthly (24.39% annualized)\n",
            "SPY: 0.020767 monthly (24.92% annualized)\n",
            "TSLA: 0.034135 monthly (40.96% annualized)\n",
            "NVDA: 0.070501 monthly (84.60% annualized)\n"
          ]
        }
      ],
      "source": [
        "# YOUR CHANGES HERE\n",
        "\n",
        "import pandas as pd\n",
        "\n",
        "historical_returns_df = pd.read_csv('historical_returns.tsv', sep='\\t')\n",
        "\n",
        "print(\"Historical returns data loaded:\")\n",
        "print(f\"Shape: {historical_returns_df.shape}\")\n",
        "print(historical_returns_df.head())\n",
        "\n",
        "stock_columns = [col for col in historical_returns_df.columns if col != 'date']\n",
        "print(f\"\\nStock columns: {stock_columns}\")\n",
        "\n",
        "mean_returns = historical_returns_df[stock_columns].mean()\n",
        "\n",
        "print(\"\\nCalculated mean returns:\")\n",
        "print(mean_returns)\n",
        "\n",
        "estimated_returns_df = pd.DataFrame({\n",
        "    'asset': mean_returns.index,\n",
        "    'estimated_return': mean_returns.values\n",
        "})\n",
        "\n",
        "\n",
        "estimated_returns_df = estimated_returns_df.sort_values('estimated_return')\n",
        "\n",
        "print(\"\\nEstimated returns (formatted for saving):\")\n",
        "print(estimated_returns_df)\n",
        "\n",
        "print(\"\\nInterpretation:\")\n",
        "for _, row in estimated_returns_df.iterrows():\n",
        "    asset = row['asset']\n",
        "    return_val = row['estimated_return']\n",
        "    annual_return = return_val * 12  # Convert monthly to approximate annual\n",
        "    print(f\"{asset}: {return_val:.6f} monthly ({annual_return:.2%} annualized)\")"
      ]
    },
    {
      "cell_type": "markdown",
      "metadata": {
        "id": "e5YTEwoarM2M"
      },
      "source": [
        "Save the estimated returns in a TSV file named \"estimated_returns.tsv\" and include a header row with the column names \"asset\" and \"estimated_return\"."
      ]
    },
    {
      "cell_type": "code",
      "execution_count": 20,
      "metadata": {
        "id": "At71YDpwvwUw"
      },
      "outputs": [
        {
          "name": "stdout",
          "output_type": "stream",
          "text": [
            "Estimated returns saved to 'estimated_returns.tsv'\n",
            " File created successfully\n",
            " File size: 107 bytes\n",
            "\n",
            "File contents:\n",
            "  asset  estimated_return\n",
            "0  YETI         -0.002113\n",
            "1  AAPL          0.016670\n",
            "2  MSFT          0.020324\n",
            "3   SPY          0.020767\n",
            "4  TSLA          0.034135\n",
            "5  NVDA          0.070501\n"
          ]
        }
      ],
      "source": [
        "# YOUR CHANGES HERE\n",
        "\n",
        "try:\n",
        "    \n",
        "    estimated_returns_df.to_csv('estimated_returns.tsv', sep='\\t', index=False, float_format='%.6f')\n",
        "    print(\"Estimated returns saved to 'estimated_returns.tsv'\")\n",
        "    \n",
        "    import os\n",
        "    if os.path.exists('estimated_returns.tsv'):\n",
        "        file_size = os.path.getsize('estimated_returns.tsv')\n",
        "        print(f\" File created successfully\")\n",
        "        print(f\" File size: {file_size} bytes\")\n",
        "        \n",
        "        print(f\"\\nFile contents:\")\n",
        "        saved_data = pd.read_csv('estimated_returns.tsv', sep='\\t')\n",
        "        print(saved_data)\n",
        "    else:\n",
        "        print(\" Error: File was not created\")\n",
        "        \n",
        "except NameError:\n",
        "    print(\" Error: 'estimated_returns_df' variable not found!\")\n",
        "    print(\"Please run the calculation cell first (Part 3 - Estimate Expected Returns)\")\n",
        "except Exception as e:\n",
        "    print(f\" Error saving file: {e}\")"
      ]
    },
    {
      "cell_type": "markdown",
      "metadata": {
        "id": "cjfnF-2Wtj6r"
      },
      "source": [
        "Submit \"estimated_returns.tsv\" in Gradescope."
      ]
    },
    {
      "cell_type": "markdown",
      "metadata": {
        "id": "VTuIqrkAWXVL"
      },
      "source": [
        "## Part 4: Estimate Risk\n",
        "\n",
        "Estimate the covariance matrix for the asset returns to understand how the assets move together."
      ]
    },
    {
      "cell_type": "code",
      "execution_count": 21,
      "metadata": {
        "id": "RFZfIkTMxcv7"
      },
      "outputs": [
        {
          "name": "stdout",
          "output_type": "stream",
          "text": [
            "Historical returns data loaded:\n",
            "Shape: (23, 7)\n",
            "         date      AAPL       SPY      TSLA      YETI      MSFT      NVDA\n",
            "0  2023-11-30  0.113780  0.091344  0.195379  0.002822  0.122945  0.146886\n",
            "1  2023-12-31  0.013583  0.045655  0.034988  0.214353 -0.007574  0.058934\n",
            "2  2024-01-31 -0.042227  0.015926 -0.246257 -0.150830  0.057281  0.242417\n",
            "3  2024-02-29 -0.018543  0.052187  0.077901 -0.066636  0.042318  0.285809\n",
            "4  2024-03-31 -0.051286  0.032702 -0.129235 -0.060673  0.017116  0.142181\n",
            "\n",
            "Stock columns: ['AAPL', 'SPY', 'TSLA', 'YETI', 'MSFT', 'NVDA']\n",
            "\n",
            "Covariance Matrix:\n",
            "Shape: (6, 6)\n",
            "          AAPL       SPY      TSLA      YETI      MSFT      NVDA\n",
            "AAPL  0.003615  0.000789  0.003052  0.002181  0.000422  0.000811\n",
            "SPY   0.000789  0.001225  0.002006  0.001676  0.001596  0.002655\n",
            "TSLA  0.003052  0.002006  0.024386  0.005601  0.002744 -0.001649\n",
            "YETI  0.002181  0.001676  0.005601  0.010040  0.001571  0.001293\n",
            "MSFT  0.000422  0.001596  0.002744  0.001571  0.003953  0.005289\n",
            "NVDA  0.000811  0.002655 -0.001649  0.001293  0.005289  0.014091\n",
            "\n",
            "Covariance Matrix Interpretation:\n",
            "Diagonal elements (variances):\n",
            "  AAPL: 0.003615 (volatility: 0.0601)\n",
            "  SPY: 0.001225 (volatility: 0.0350)\n",
            "  TSLA: 0.024386 (volatility: 0.1562)\n",
            "  YETI: 0.010040 (volatility: 0.1002)\n",
            "  MSFT: 0.003953 (volatility: 0.0629)\n",
            "  NVDA: 0.014091 (volatility: 0.1187)\n",
            "\n",
            "Some key correlations:\n",
            "AAPL-SPY correlation: 0.3752\n",
            "TSLA-NVDA correlation: -0.0889\n",
            "SPY-MSFT correlation: 0.7253\n"
          ]
        }
      ],
      "source": [
        "# YOUR CHANGES HERE\n",
        "\n",
        "import pandas as pd\n",
        "import numpy as np\n",
        "\n",
        "historical_returns_df = pd.read_csv('historical_returns.tsv', sep='\\t')\n",
        "\n",
        "print(\"Historical returns data loaded:\")\n",
        "print(f\"Shape: {historical_returns_df.shape}\")\n",
        "print(historical_returns_df.head())\n",
        "\n",
        "stock_columns = [col for col in historical_returns_df.columns if col != 'date']\n",
        "print(f\"\\nStock columns: {stock_columns}\")\n",
        "\n",
        "returns_data = historical_returns_df[stock_columns]\n",
        "covariance_matrix = returns_data.cov()\n",
        "\n",
        "print(f\"\\nCovariance Matrix:\")\n",
        "print(f\"Shape: {covariance_matrix.shape}\")\n",
        "print(covariance_matrix)\n",
        "\n",
        "print(f\"\\nCovariance Matrix Interpretation:\")\n",
        "print(f\"Diagonal elements (variances):\")\n",
        "for asset in stock_columns:\n",
        "    variance = covariance_matrix.loc[asset, asset]\n",
        "    volatility = np.sqrt(variance)\n",
        "    print(f\"  {asset}: {variance:.6f} (volatility: {volatility:.4f})\")\n",
        "\n",
        "print(f\"\\nSome key correlations:\")\n",
        "correlation_matrix = returns_data.corr()\n",
        "print(f\"AAPL-SPY correlation: {correlation_matrix.loc['AAPL', 'SPY']:.4f}\")\n",
        "print(f\"TSLA-NVDA correlation: {correlation_matrix.loc['TSLA', 'NVDA']:.4f}\")\n",
        "print(f\"SPY-MSFT correlation: {correlation_matrix.loc['SPY', 'MSFT']:.4f}\")"
      ]
    },
    {
      "cell_type": "markdown",
      "metadata": {
        "id": "sOmn4s_yr5qn"
      },
      "source": [
        "Save the estimated covariances to a TSV file named \"estimated_covariance.tsv\".\n",
        "The header row should have a blank column name followed by the names of the assets.\n",
        "Each data row should start with the name of an asset for that row, and be followed by the individual covariances corresponding to that row and column's assets.\n",
        "(This is the format of pandas's `to_csv` method with `sep=\"\\t\"` when used on a covariance matrix as computed in the examples.)"
      ]
    },
    {
      "cell_type": "code",
      "execution_count": 22,
      "metadata": {
        "id": "Te-NPQxSvuXm"
      },
      "outputs": [
        {
          "name": "stdout",
          "output_type": "stream",
          "text": [
            "Covariance matrix saved to 'estimated_covariance.tsv'\n"
          ]
        }
      ],
      "source": [
        "# YOUR CHANGES HERE\n",
        "\n",
        "covariance_matrix.to_csv('estimated_covariance.tsv', sep='\\t', float_format='%.6f')\n",
        "print(\"Covariance matrix saved to 'estimated_covariance.tsv'\")"
      ]
    },
    {
      "cell_type": "markdown",
      "metadata": {
        "id": "lS9vek0btoK6"
      },
      "source": [
        "Submit \"estimated_covariance.tsv\" in Gradescope."
      ]
    },
    {
      "cell_type": "markdown",
      "metadata": {
        "id": "C8rC5Eo3sEme"
      },
      "source": [
        "## Part 5: Construct the Maximum Return Portfolio\n",
        "\n",
        "Compute the maximum return portfolio based on your previously estimated risks and returns."
      ]
    },
    {
      "cell_type": "code",
      "execution_count": 23,
      "metadata": {
        "id": "8LW0KKm-xb2I"
      },
      "outputs": [
        {
          "name": "stdout",
          "output_type": "stream",
          "text": [
            "Estimated returns data:\n",
            "  asset  estimated_return\n",
            "0  YETI         -0.002113\n",
            "1  AAPL          0.016670\n",
            "2  MSFT          0.020324\n",
            "3   SPY          0.020767\n",
            "4  TSLA          0.034135\n",
            "5  NVDA          0.070501\n",
            "\n",
            "Asset with highest expected return:\n",
            "Asset: NVDA\n",
            "Expected return: 0.070501\n",
            "\n",
            "Maximum Return Portfolio:\n",
            "  asset  allocation\n",
            "0  YETI         0.0\n",
            "1  AAPL         0.0\n",
            "2  MSFT         0.0\n",
            "3   SPY         0.0\n",
            "4  TSLA         0.0\n",
            "5  NVDA         1.0\n",
            "\n",
            "Total allocation: 1.000000 (should be 1.0)\n",
            "Portfolio expected return: 0.070501\n"
          ]
        }
      ],
      "source": [
        "# YOUR CHANGES HERE\n",
        "\n",
        "import pandas as pd\n",
        "import numpy as np\n",
        "\n",
        "estimated_returns_df = pd.read_csv('estimated_returns.tsv', sep='\\t')\n",
        "\n",
        "print(\"Estimated returns data:\")\n",
        "print(estimated_returns_df)\n",
        "\n",
        "max_return_idx = estimated_returns_df['estimated_return'].idxmax()\n",
        "best_asset = estimated_returns_df.loc[max_return_idx, 'asset']\n",
        "max_return_value = estimated_returns_df.loc[max_return_idx, 'estimated_return']\n",
        "\n",
        "print(f\"\\nAsset with highest expected return:\")\n",
        "print(f\"Asset: {best_asset}\")\n",
        "print(f\"Expected return: {max_return_value:.6f}\")\n",
        "\n",
        "all_assets = estimated_returns_df['asset'].tolist()\n",
        "allocations = []\n",
        "\n",
        "for asset in all_assets:\n",
        "    if asset == best_asset:\n",
        "        allocation = 1.0  \n",
        "    else:\n",
        "        allocation = 0.0  \n",
        "    allocations.append(allocation)\n",
        "\n",
        "max_return_portfolio = pd.DataFrame({\n",
        "    'asset': all_assets,\n",
        "    'allocation': allocations\n",
        "})\n",
        "\n",
        "print(f\"\\nMaximum Return Portfolio:\")\n",
        "print(max_return_portfolio)\n",
        "\n",
        "total_allocation = max_return_portfolio['allocation'].sum()\n",
        "print(f\"\\nTotal allocation: {total_allocation:.6f} (should be 1.0)\")\n",
        "\n",
        "portfolio_return = (max_return_portfolio['allocation'] * \n",
        "                   estimated_returns_df['estimated_return']).sum()\n",
        "print(f\"Portfolio expected return: {portfolio_return:.6f}\")"
      ]
    },
    {
      "cell_type": "markdown",
      "metadata": {
        "id": "jjPOxui5sLTD"
      },
      "source": [
        "Save the maximum return portfolio in a TSV file named \"maximum_return.tsv\".\n",
        "The header row should have two columns, \"asset\" and \"allocation\".\n",
        "The allocation values should sum up to one.\n"
      ]
    },
    {
      "cell_type": "code",
      "execution_count": 24,
      "metadata": {
        "id": "xLl_j8z1vtiT"
      },
      "outputs": [
        {
          "name": "stdout",
          "output_type": "stream",
          "text": [
            "Maximum return portfolio saved to 'maximum_return.tsv'\n"
          ]
        }
      ],
      "source": [
        "# YOUR CHANGES HERE\n",
        "\n",
        "max_return_portfolio.to_csv('maximum_return.tsv', sep='\\t', index=False, float_format='%.6f')\n",
        "print(\"Maximum return portfolio saved to 'maximum_return.tsv'\")"
      ]
    },
    {
      "cell_type": "markdown",
      "metadata": {
        "id": "4bm3xrxptqJ2"
      },
      "source": [
        "Submit \"maximum_return.tsv\" in Gradescope."
      ]
    },
    {
      "cell_type": "markdown",
      "metadata": {
        "id": "r_QxQ5NpsL-c"
      },
      "source": [
        "## Part 6: Construct the Minimum Risk Portfolio\n",
        "\n",
        "Compute the minimum return portfolio based on your previously estimated risks and returns."
      ]
    },
    {
      "cell_type": "code",
      "execution_count": 25,
      "metadata": {
        "id": "daHSqhv9xbIF"
      },
      "outputs": [
        {
          "name": "stdout",
          "output_type": "stream",
          "text": [
            "Covariance matrix loaded:\n",
            "Shape: (6, 6)\n",
            "          AAPL       SPY      TSLA      YETI      MSFT      NVDA\n",
            "AAPL  0.003615  0.000789  0.003052  0.002181  0.000422  0.000811\n",
            "SPY   0.000789  0.001225  0.002006  0.001676  0.001596  0.002655\n",
            "TSLA  0.003052  0.002006  0.024386  0.005601  0.002744 -0.001649\n",
            "YETI  0.002181  0.001676  0.005601  0.010040  0.001571  0.001293\n",
            "MSFT  0.000422  0.001596  0.002744  0.001571  0.003953  0.005289\n",
            "NVDA  0.000811  0.002655 -0.001649  0.001293  0.005289  0.014091\n",
            "\n",
            "Assets: ['AAPL', 'SPY', 'TSLA', 'YETI', 'MSFT', 'NVDA']\n",
            "Number of assets: 6\n",
            "\n",
            "Minimum Risk Portfolio Weights:\n",
            "AAPL: 0.126605\n",
            "SPY: 1.151507\n",
            "TSLA: -0.081720\n",
            "YETI: -0.080394\n",
            "MSFT: 0.084251\n",
            "NVDA: -0.200250\n",
            "\n",
            "Total weights: 1.000000 (should be 1.0)\n",
            "Portfolio risk (std dev): 0.028542\n",
            "\n",
            "Minimum Risk Portfolio:\n",
            "  asset  allocation\n",
            "0  AAPL    0.126605\n",
            "1   SPY    1.151507\n",
            "2  TSLA   -0.081720\n",
            "3  YETI   -0.080394\n",
            "4  MSFT    0.084251\n",
            "5  NVDA   -0.200250\n"
          ]
        }
      ],
      "source": [
        "# YOUR CHANGES HERE\n",
        "\n",
        "import pandas as pd\n",
        "import numpy as np\n",
        "\n",
        "covariance_matrix = pd.read_csv('estimated_covariance.tsv', sep='\\t', index_col=0)\n",
        "\n",
        "print(\"Covariance matrix loaded:\")\n",
        "print(f\"Shape: {covariance_matrix.shape}\")\n",
        "print(covariance_matrix)\n",
        "\n",
        "assets = covariance_matrix.index.tolist()\n",
        "n_assets = len(assets)\n",
        "print(f\"\\nAssets: {assets}\")\n",
        "print(f\"Number of assets: {n_assets}\")\n",
        "\n",
        "cov_matrix = covariance_matrix.values\n",
        "\n",
        "try:\n",
        "    \n",
        "    cov_inv = np.linalg.inv(cov_matrix)\n",
        "   \n",
        "    ones = np.ones((n_assets, 1))\n",
        "    \n",
        "    numerator = cov_inv @ ones\n",
        "    \n",
        "    denominator = ones.T @ cov_inv @ ones\n",
        "    \n",
        "    min_risk_weights = numerator / denominator\n",
        "    min_risk_weights = min_risk_weights.flatten()  \n",
        "    \n",
        "    print(f\"\\nMinimum Risk Portfolio Weights:\")\n",
        "    for i, asset in enumerate(assets):\n",
        "        print(f\"{asset}: {min_risk_weights[i]:.6f}\")\n",
        "    \n",
        "    total_weight = np.sum(min_risk_weights)\n",
        "    print(f\"\\nTotal weights: {total_weight:.6f} (should be 1.0)\")\n",
        "    \n",
        "    portfolio_variance = min_risk_weights.T @ cov_matrix @ min_risk_weights\n",
        "    portfolio_risk = np.sqrt(portfolio_variance)\n",
        "    print(f\"Portfolio risk (std dev): {portfolio_risk:.6f}\")\n",
        "    \n",
        "    min_risk_portfolio = pd.DataFrame({\n",
        "        'asset': assets,\n",
        "        'allocation': min_risk_weights\n",
        "    })\n",
        "    \n",
        "    print(f\"\\nMinimum Risk Portfolio:\")\n",
        "    print(min_risk_portfolio)\n",
        "    \n",
        "except np.linalg.LinAlgError as e:\n",
        "    print(f\"Error: Covariance matrix is not invertible: {e}\")\n",
        "    print(\"This may indicate highly correlated assets or numerical issues.\")"
      ]
    },
    {
      "cell_type": "markdown",
      "metadata": {
        "id": "wzldkIPxsQor"
      },
      "source": [
        "Save the minimum risk portfolio in a TSV file named \"minimum_risk.tsv\".\n",
        "The header row should have two columns, \"asset\" and \"allocation\".\n",
        "The allocation values should sum up to one.\n"
      ]
    },
    {
      "cell_type": "code",
      "execution_count": 26,
      "metadata": {
        "id": "YRXccAflvrBZ"
      },
      "outputs": [
        {
          "name": "stdout",
          "output_type": "stream",
          "text": [
            "Minimum risk portfolio saved to 'minimum_risk.tsv'\n"
          ]
        }
      ],
      "source": [
        "# YOUR CHANGES HERE\n",
        "\n",
        "min_risk_portfolio.to_csv('minimum_risk.tsv', sep='\\t', index=False, float_format='%.6f')\n",
        "print(\"Minimum risk portfolio saved to 'minimum_risk.tsv'\")\n"
      ]
    },
    {
      "cell_type": "markdown",
      "metadata": {
        "id": "P5gy_XETtsoi"
      },
      "source": [
        "Submit \"minimum_risk.tsv\" in Gradescope."
      ]
    },
    {
      "cell_type": "markdown",
      "metadata": {
        "id": "mzyJGWDvWhva"
      },
      "source": [
        "## Part 7: Build Efficient Frontier Portfolios\n",
        "\n",
        "Compute 101 portfolios along the mean-variance efficient frontier with evenly spaced estimated returns.\n",
        "The first portfolio should be the minimum risk portfolio from part 4, and the last portfolio should be the maximum return portfolio from part 3.\n",
        "The estimated return of each portfolio should be higher than the previous by one percent of the difference between the first and last portfolios.\n",
        "That is, the estimated return of the portfolios should be similar to `np.linspace(min_risk_return, max_return, 101)`.\n"
      ]
    },
    {
      "cell_type": "code",
      "execution_count": null,
      "metadata": {
        "id": "XaR6mKwvxZ4W"
      },
      "outputs": [
        {
          "name": "stdout",
          "output_type": "stream",
          "text": [
            "Data loaded successfully\n",
            "Assets: ['AAPL', 'SPY', 'TSLA', 'YETI', 'MSFT', 'NVDA']\n",
            "\n",
            "Expected returns vector: [ 0.01667   0.020767  0.034135 -0.002113  0.020324  0.070501]\n",
            "Min risk portfolio return: 0.010999\n",
            "Max return portfolio return: 0.070501\n",
            "Target returns range: 0.010999 to 0.070501\n",
            "\n",
            "Building 101 efficient portfolios...\n",
            "Portfolio 0: Return = 0.010999, Risk = 0.028542\n",
            "Portfolio 20: Return = 0.022899, Risk = 0.032744\n",
            "Portfolio 40: Return = 0.034800, Risk = 0.042950\n",
            "Portfolio 60: Return = 0.046700, Risk = 0.055967\n",
            "Portfolio 80: Return = 0.058601, Risk = 0.070249\n",
            "Portfolio 100: Return = 0.070501, Risk = 0.118706\n",
            "\n",
            "Efficient frontier completed!\n",
            "Shape: (101, 9)\n",
            "Columns: ['index', 'return', 'risk', 'AAPL', 'SPY', 'TSLA', 'YETI', 'MSFT', 'NVDA']\n",
            "\n",
            "First few portfolios:\n",
            "   index    return      risk\n",
            "0      0  0.010999  0.028542\n",
            "1      1  0.011594  0.028553\n",
            "2      2  0.012189  0.028587\n",
            "3      3  0.012784  0.028643\n",
            "4      4  0.013379  0.028721\n",
            "\n",
            "Last few portfolios:\n",
            "     index    return      risk\n",
            "96      96  0.068121  0.082146\n",
            "97      97  0.068716  0.082899\n",
            "98      98  0.069311  0.083652\n",
            "99      99  0.069906  0.084407\n",
            "100    100  0.070501  0.118706\n"
          ]
        }
      ],
      "source": [
        "# YOUR CHANGES HERE\n",
        "\n",
        "import pandas as pd\n",
        "import numpy as np\n",
        "\n",
        "covariance_matrix = pd.read_csv('estimated_covariance.tsv', sep='\\t', index_col=0)\n",
        "estimated_returns_df = pd.read_csv('estimated_returns.tsv', sep='\\t')\n",
        "min_risk_portfolio = pd.read_csv('minimum_risk.tsv', sep='\\t')\n",
        "max_return_portfolio = pd.read_csv('maximum_return.tsv', sep='\\t')\n",
        "\n",
        "print(\"Data loaded successfully\")\n",
        "print(f\"Assets: {list(covariance_matrix.index)}\")\n",
        "\n",
        "assets = list(covariance_matrix.index)\n",
        "n_assets = len(assets)\n",
        "cov_matrix = covariance_matrix.values\n",
        "\n",
        "expected_returns = np.zeros(n_assets)\n",
        "for i, asset in enumerate(assets):\n",
        "    expected_returns[i] = estimated_returns_df[estimated_returns_df['asset'] == asset]['estimated_return'].iloc[0]\n",
        "\n",
        "print(f\"\\nExpected returns vector: {expected_returns}\")\n",
        "\n",
        "min_risk_weights = min_risk_portfolio['allocation'].values\n",
        "max_return_weights = max_return_portfolio['allocation'].values\n",
        "\n",
        "min_risk_weights_ordered = np.zeros(n_assets)\n",
        "max_return_weights_ordered = np.zeros(n_assets)\n",
        "\n",
        "for i, asset in enumerate(assets):\n",
        "    min_idx = min_risk_portfolio[min_risk_portfolio['asset'] == asset].index[0]\n",
        "    max_idx = max_return_portfolio[max_return_portfolio['asset'] == asset].index[0]\n",
        "    min_risk_weights_ordered[i] = min_risk_portfolio.loc[min_idx, 'allocation']\n",
        "    max_return_weights_ordered[i] = max_return_portfolio.loc[max_idx, 'allocation']\n",
        "\n",
        "min_risk_return = np.dot(min_risk_weights_ordered, expected_returns)\n",
        "max_return_return = np.dot(max_return_weights_ordered, expected_returns)\n",
        "\n",
        "print(f\"Min risk portfolio return: {min_risk_return:.6f}\")\n",
        "print(f\"Max return portfolio return: {max_return_return:.6f}\")\n",
        "\n",
        "target_returns = np.linspace(min_risk_return, max_return_return, 101)\n",
        "print(f\"Target returns range: {target_returns[0]:.6f} to {target_returns[-1]:.6f}\")\n",
        "\n",
        "def solve_efficient_portfolio(target_return, expected_returns, cov_matrix):\n",
        "    \"\"\"\n",
        "    Solve for minimum variance portfolio with target return\n",
        "    Using the formula for constrained optimization\n",
        "    \"\"\"\n",
        "    n = len(expected_returns)\n",
        "    \n",
        "    \n",
        "    cov_inv = np.linalg.inv(cov_matrix)\n",
        "    \n",
        "\n",
        "    A = np.column_stack([expected_returns, np.ones(n)])  \n",
        "    b = np.array([target_return, 1.0])  \n",
        "    \n",
        "   \n",
        "    temp1 = A.T @ cov_inv @ A  \n",
        "    temp2 = np.linalg.inv(temp1)  \n",
        "    temp3 = temp2 @ b  \n",
        "    weights = cov_inv @ A @ temp3  \n",
        "    \n",
        "    return weights\n",
        "\n",
        "print(f\"\\nBuilding {len(target_returns)} efficient portfolios...\")\n",
        "\n",
        "efficient_portfolios = []\n",
        "\n",
        "for i, target_ret in enumerate(target_returns):\n",
        "    try:\n",
        "        if i == 0:\n",
        "            weights = min_risk_weights_ordered  \n",
        "        elif i == len(target_returns) - 1:\n",
        "            weights = max_return_weights_ordered\n",
        "        else:\n",
        "            weights = solve_efficient_portfolio(target_ret, expected_returns, cov_matrix)\n",
        "        \n",
        "        portfolio_return = np.dot(weights, expected_returns)\n",
        "        portfolio_variance = weights.T @ cov_matrix @ weights\n",
        "        portfolio_risk = np.sqrt(portfolio_variance)\n",
        "        \n",
        "        portfolio_data = {\n",
        "            'index': i,\n",
        "            'return': portfolio_return,\n",
        "            'risk': portfolio_risk\n",
        "        }\n",
        "        \n",
        "        for j, asset in enumerate(assets):\n",
        "            portfolio_data[asset] = weights[j]\n",
        "        \n",
        "        efficient_portfolios.append(portfolio_data)\n",
        "        \n",
        "        if i % 20 == 0: \n",
        "            print(f\"Portfolio {i}: Return = {portfolio_return:.6f}, Risk = {portfolio_risk:.6f}\")\n",
        "            \n",
        "    except Exception as e:\n",
        "        print(f\"Error solving portfolio {i} with target return {target_ret:.6f}: {e}\")\n",
        "\n",
        "efficient_frontier_df = pd.DataFrame(efficient_portfolios)\n",
        "\n",
        "print(f\"\\nEfficient frontier completed!\")\n",
        "print(f\"Shape: {efficient_frontier_df.shape}\")\n",
        "print(f\"Columns: {list(efficient_frontier_df.columns)}\")\n",
        "print(f\"\\nFirst few portfolios:\")\n",
        "print(efficient_frontier_df[['index', 'return', 'risk']].head())\n",
        "print(f\"\\nLast few portfolios:\")\n",
        "print(efficient_frontier_df[['index', 'return', 'risk']].tail())"
      ]
    },
    {
      "cell_type": "markdown",
      "metadata": {
        "id": "8e3WwTJvsDzh"
      },
      "source": [
        "Save the portfolios in a TSV file named \"efficient_frontier.tsv\".\n",
        "The header row should have columns \"index\", \"return\", \"risk\", and all the asset tickers.\n",
        "Each data row should have the portfolio index (0-100), the estimated return of the portfolio, the estimated standard deviation (not variance) of the portfolio, and all the asset allocations (which should sum to one)."
      ]
    },
    {
      "cell_type": "code",
      "execution_count": 28,
      "metadata": {
        "id": "e9DKadyNvniT"
      },
      "outputs": [
        {
          "name": "stdout",
          "output_type": "stream",
          "text": [
            "Efficient frontier saved to 'efficient_frontier.tsv'\n"
          ]
        }
      ],
      "source": [
        "# YOUR CHANGES HERE\n",
        "\n",
        "efficient_frontier_df.to_csv('efficient_frontier.tsv', sep='\\t', index=False, float_format='%.6f')\n",
        "print(\"Efficient frontier saved to 'efficient_frontier.tsv'\")"
      ]
    },
    {
      "cell_type": "markdown",
      "metadata": {
        "id": "jiOa06rItvbs"
      },
      "source": [
        "Submit \"efficient_frontier.tsv\" in Gradescope."
      ]
    },
    {
      "cell_type": "markdown",
      "metadata": {
        "id": "LoW0XBXAzzR6"
      },
      "source": [
        "## Part 8: Check Maximum Return Portfolio Stability\n",
        "\n",
        "Check the stability of the maximum return portfolio by resampling the estimated risk/return model.\n",
        "\n",
        "Repeat 1000 times -\n",
        "1. Use `np.random.multivariate_normal` to generate 23 return samples using your previously estimated risks and returns.\n",
        "2. Estimate the return of each asset using that resampled return history.\n",
        "3. Check which asset had the highest return in those resampled estimates.\n",
        "\n",
        "This procedure is a reduced and simplified version of the Michaud resampled efficient frontier procedure that takes uncertainty in the risk model into account."
      ]
    },
    {
      "cell_type": "code",
      "execution_count": 29,
      "metadata": {
        "id": "Xfke5V57xYvT"
      },
      "outputs": [
        {
          "name": "stdout",
          "output_type": "stream",
          "text": [
            "Data loaded for stability check\n",
            "Assets: ['AAPL', 'SPY', 'TSLA', 'YETI', 'MSFT', 'NVDA']\n",
            "Original expected returns: [ 0.01667   0.020767  0.034135 -0.002113  0.020324  0.070501]\n",
            "Original maximum return asset: NVDA\n",
            "\n",
            "Running 1000 Monte Carlo simulations...\n",
            "Each simulation generates 23 return samples\n",
            "Completed 200 simulations...\n",
            "Completed 400 simulations...\n",
            "Completed 600 simulations...\n",
            "Completed 800 simulations...\n",
            "Completed 1000 simulations...\n",
            "\n",
            "Simulation completed!\n",
            "\n",
            "Results summary:\n",
            "Asset with highest return in each simulation:\n",
            "AAPL: 2 times (0.002 probability)\n",
            "SPY: 1 times (0.001 probability)\n",
            "TSLA: 186 times (0.186 probability)\n",
            "YETI: 1 times (0.001 probability)\n",
            "MSFT: 0 times (0.000 probability)\n",
            "NVDA: 810 times (0.810 probability)\n",
            "\n",
            "Stability analysis:\n",
            "Original choice (NVDA) was optimal in 81.0% of simulations\n",
            "✓ Original choice was optimal in majority of simulations\n",
            "This suggests the maximum return portfolio choice is relatively stable\n",
            "\n",
            "Assets ranked by probability of having highest return:\n",
            "  asset  probability\n",
            "5  NVDA        0.810\n",
            "2  TSLA        0.186\n",
            "0  AAPL        0.002\n",
            "1   SPY        0.001\n",
            "3  YETI        0.001\n",
            "4  MSFT        0.000\n"
          ]
        }
      ],
      "source": [
        "# YOUR CHANGES HERE\n",
        "\n",
        "import pandas as pd\n",
        "import numpy as np\n",
        "\n",
        "covariance_matrix = pd.read_csv('estimated_covariance.tsv', sep='\\t', index_col=0)\n",
        "estimated_returns_df = pd.read_csv('estimated_returns.tsv', sep='\\t')\n",
        "\n",
        "print(\"Data loaded for stability check\")\n",
        "\n",
        "assets = list(covariance_matrix.index)\n",
        "n_assets = len(assets)\n",
        "cov_matrix = covariance_matrix.values\n",
        "\n",
        "expected_returns = np.zeros(n_assets)\n",
        "for i, asset in enumerate(assets):\n",
        "    expected_returns[i] = estimated_returns_df[estimated_returns_df['asset'] == asset]['estimated_return'].iloc[0]\n",
        "\n",
        "print(f\"Assets: {assets}\")\n",
        "print(f\"Original expected returns: {expected_returns}\")\n",
        "\n",
        "original_max_asset = estimated_returns_df.loc[estimated_returns_df['estimated_return'].idxmax(), 'asset']\n",
        "print(f\"Original maximum return asset: {original_max_asset}\")\n",
        "\n",
        "n_simulations = 1000\n",
        "n_samples = 23  \n",
        "\n",
        "print(f\"\\nRunning {n_simulations} Monte Carlo simulations...\")\n",
        "print(f\"Each simulation generates {n_samples} return samples\")\n",
        "\n",
        "highest_return_assets = []\n",
        "\n",
        "np.random.seed(42)\n",
        "\n",
        "for sim in range(n_simulations):\n",
        "    simulated_returns = np.random.multivariate_normal(\n",
        "        mean=expected_returns, \n",
        "        cov=cov_matrix, \n",
        "        size=n_samples\n",
        "    )\n",
        "    \n",
        "    sim_mean_returns = np.mean(simulated_returns, axis=0)\n",
        "    \n",
        "    max_return_idx = np.argmax(sim_mean_returns)\n",
        "    highest_return_asset = assets[max_return_idx]\n",
        "    highest_return_assets.append(highest_return_asset)\n",
        "   \n",
        "    if (sim + 1) % 200 == 0:\n",
        "        print(f\"Completed {sim + 1} simulations...\")\n",
        "\n",
        "print(f\"\\nSimulation completed!\")\n",
        "\n",
        "from collections import Counter\n",
        "asset_counts = Counter(highest_return_assets)\n",
        "\n",
        "print(f\"\\nResults summary:\")\n",
        "print(f\"Asset with highest return in each simulation:\")\n",
        "for asset in assets:\n",
        "    count = asset_counts.get(asset, 0)\n",
        "    probability = count / n_simulations\n",
        "    print(f\"{asset}: {count} times ({probability:.3f} probability)\")\n",
        "\n",
        "results_df = pd.DataFrame({\n",
        "    'asset': assets,\n",
        "    'probability': [asset_counts.get(asset, 0) / n_simulations for asset in assets]\n",
        "})\n",
        "\n",
        "print(f\"\\nStability analysis:\")\n",
        "original_prob = results_df[results_df['asset'] == original_max_asset]['probability'].iloc[0]\n",
        "print(f\"Original choice ({original_max_asset}) was optimal in {original_prob:.1%} of simulations\")\n",
        "\n",
        "if original_prob < 0.5:\n",
        "    print(f\"⚠ Warning: Original choice was not optimal in majority of simulations\")\n",
        "    print(f\"This suggests the maximum return portfolio choice is not very stable\")\n",
        "else:\n",
        "    print(f\"✓ Original choice was optimal in majority of simulations\")\n",
        "    print(f\"This suggests the maximum return portfolio choice is relatively stable\")\n",
        "\n",
        "results_sorted = results_df.sort_values('probability', ascending=False)\n",
        "print(f\"\\nAssets ranked by probability of having highest return:\")\n",
        "print(results_sorted)"
      ]
    },
    {
      "cell_type": "markdown",
      "metadata": {
        "id": "fes_ScDyz0jp"
      },
      "source": [
        "Save a file \"max_return_probabilities.tsv\" with the distribution of highest return assets.\n",
        "The header row should have columns \"asset\" and \"probability\".\n",
        "There should be a data row for each asset and its sample probability of having the highest return based on those 1000 resampled estimates.\n"
      ]
    },
    {
      "cell_type": "code",
      "execution_count": 30,
      "metadata": {
        "id": "ZAjr15ASvj1S"
      },
      "outputs": [
        {
          "name": "stdout",
          "output_type": "stream",
          "text": [
            "Maximum return portfolio stability results saved to 'max_return_probabilities.tsv'\n"
          ]
        }
      ],
      "source": [
        "# YOUR CHANGES HERE\n",
        "\n",
        "results_df.to_csv('max_return_probabilities.tsv', sep='\\t', index=False, float_format='%.6f')\n",
        "print(\"Maximum return portfolio stability results saved to 'max_return_probabilities.tsv'\")"
      ]
    },
    {
      "cell_type": "markdown",
      "metadata": {
        "id": "2Xd34FQ6txoj"
      },
      "source": [
        "Submit \"max_return_probabilities.tsv\" in Gradescope."
      ]
    },
    {
      "cell_type": "markdown",
      "metadata": {
        "id": "SYbJ21qUYvL_"
      },
      "source": [
        "## Part 9: Acknowledgments\n",
        "\n",
        "Make a file \"acknowledgments.txt\" documenting any outside sources or help on this project.\n",
        "If you discussed this assignment with anyone, please acknowledge them here.\n",
        "If you used any libraries not mentioned in this module's content, please list them with a brief explanation what you used them for.\n",
        "If you used any generative AI tools, please add links to your transcripts below, and any other information that you feel is necessary to comply with the generative AI policy.\n",
        "If no acknowledgements are appropriate, just write none in the file.\n"
      ]
    },
    {
      "cell_type": "markdown",
      "metadata": {
        "id": "H3oWYYHlt42V"
      },
      "source": [
        "Submit \"acknowledgements.txt\" in Gradescope."
      ]
    },
    {
      "cell_type": "markdown",
      "metadata": {
        "id": "b8FWiTjvwscA"
      },
      "source": [
        "## Part 10: Code\n",
        "\n",
        "Please submit a Jupyter notebook that can reproduce all your calculations and recreate the previously submitted files.\n",
        "You do not need to provide code for data collection if you did that by manually."
      ]
    },
    {
      "cell_type": "markdown",
      "metadata": {
        "id": "HDEYI-K8vcUW"
      },
      "source": [
        "Submit \"project.ipynb\" in Gradescope."
      ]
    }
  ],
  "metadata": {
    "colab": {
      "toc_visible": false
    },
    "kernelspec": {
      "display_name": "Python 3",
      "name": "python3"
    },
    "language_info": {
      "codemirror_mode": {
        "name": "ipython",
        "version": 3
      },
      "file_extension": ".py",
      "mimetype": "text/x-python",
      "name": "python",
      "nbconvert_exporter": "python",
      "pygments_lexer": "ipython3",
      "version": "3.12.1"
    }
  },
  "nbformat": 4,
  "nbformat_minor": 0
}
