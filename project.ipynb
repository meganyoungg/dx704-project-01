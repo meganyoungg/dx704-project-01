{
  "cells": [
    {
      "cell_type": "markdown",
      "metadata": {
        "id": "DDELa7o5UXrY"
      },
      "source": [
        "# DX 704 Week 1 Project\n",
        "\n",
        "This week's project will build a portfolio risk and return model, and make investing recommendations for hypothetical clients.\n",
        "You will collect historical data, estimate returns and risks, construct efficient frontier portfolios, and sanity check the certainty of the maximum return portfolio."
      ]
    },
    {
      "cell_type": "markdown",
      "metadata": {
        "id": "P6SxppNu8p8k"
      },
      "source": [
        "The full project description and a template notebook are available on GitHub at the following link.\n",
        "\n",
        "https://github.com/bu-cds-dx704/dx704-project-01\n"
      ]
    },
    {
      "cell_type": "markdown",
      "metadata": {
        "id": "GmIaQcdCwObV"
      },
      "source": [
        "Feel free to use optimization tools or libraries (such as CVXOPT or scipy.optimize) to perform any calculations required for this mini project."
      ]
    },
    {
      "cell_type": "markdown",
      "metadata": {},
      "source": [
        "### Example Code\n",
        "\n",
        "You may find it helpful to refer to these GitHub repositories of Jupyter notebooks for example code.\n",
        "\n",
        "* https://github.com/bu-cds-omds/dx601-examples\n",
        "* https://github.com/bu-cds-omds/dx602-examples\n",
        "* https://github.com/bu-cds-omds/dx603-examples\n",
        "* https://github.com/bu-cds-omds/dx704-examples\n",
        "\n",
        "Any calculations demonstrated in code examples or videos may be found in these notebooks, and you are allowed to copy this example code in your homework answers."
      ]
    },
    {
      "cell_type": "markdown",
      "metadata": {
        "id": "pv3PslO0V5Lm"
      },
      "source": [
        "## Part 1: Collect Data\n",
        "\n",
        "Collect historical monthly price data for the last 24 months covering 6 different stocks.\n",
        "The data should cover 24 consecutive months including the last month that ended before this week's material was released on Blackboard.\n",
        "To be clear, if a month ends between the Blackboard release and submitting your project, you do not need to add that month.\n",
        "\n",
        "The six different stocks must include AAPL, SPY and TSLA.\n",
        "At least one of the remaining 3 tickers must start with the same letter as your last name (e.g. professor Considine could use COIN).\n",
        "This is to encourage diversity in what stocks you analyze; if you discuss this project with classmates, please make sure that you pick different tickers to differentiate your work.\n",
        "Do not pick stocks with fewer than 24 consecutive months of price data."
      ]
    },
    {
      "cell_type": "code",
      "execution_count": 1,
      "metadata": {
        "id": "6pL-ppubxfvC"
      },
      "outputs": [
        {
          "name": "stdout",
          "output_type": "stream",
          "text": [
            "Fixed columns: ['date', 'AAPL', 'SPY', 'TSLA', 'YETI', 'MSFT', 'NVDA']\n",
            "         date        AAPL         SPY        TSLA       YETI        MSFT  \\\n",
            "0  2023-10-31  169.113556  408.794403  200.839996  42.520000  333.090332   \n",
            "1  2023-11-30  188.355331  446.135193  240.080002  42.639999  374.042267   \n",
            "2  2023-12-31  190.913666  466.503693  248.479996  51.779999  371.209137   \n",
            "3  2024-01-31  182.851929  473.933441  187.289993  43.970001  392.472412   \n",
            "4  2024-02-29  179.461243  498.666504  201.880005  41.040001  409.081238   \n",
            "\n",
            "        NVDA  \n",
            "0  40.758278  \n",
            "1  46.745087  \n",
            "2  49.499973  \n",
            "3  61.499630  \n",
            "4  79.076813  \n"
          ]
        }
      ],
      "source": [
        "# YOUR CHANGES HERE\n",
        "import yfinance as yf\n",
        "import cvxpy as cp\n",
        "import pandas as pd\n",
        "\n",
        "tickers = [\"AAPL\", \"SPY\", \"TSLA\", \"YETI\", \"MSFT\", \"NVDA\"]\n",
        "\n",
        "historical_prices = None\n",
        "\n",
        "for t in tickers:\n",
        "    ticker = yf.Ticker(t)\n",
        "    history = ticker.history(period=\"2y\")\n",
        "    \n",
        "    monthly_prices = history['Close'].resample('ME').last()\n",
        "    \n",
        "    if historical_prices is None:\n",
        "        historical_prices = monthly_prices\n",
        "    else:\n",
        "        historical_prices = pd.concat([historical_prices, monthly_prices], axis=1)\n",
        "\n",
        "historical_prices.columns = tickers\n",
        "historical_prices.index = pd.to_datetime(historical_prices.index).strftime(\"%Y-%m-%d\")\n",
        "historical_prices = historical_prices.tail(24)\n",
        "\n",
        "historical_prices = historical_prices.reset_index()\n",
        "historical_prices = historical_prices.rename(columns={'index': 'Date'})  \n",
        "historical_prices = historical_prices.rename(columns={'Date': 'date'}) \n",
        "\n",
        "\n",
        "print(\"Fixed columns:\", historical_prices.columns.tolist())\n",
        "print(historical_prices.head())"
      ]
    },
    {
      "cell_type": "markdown",
      "metadata": {
        "id": "1uH9oDQ1rEQT"
      },
      "source": [
        "Save the data as a TSV file named \"historical_prices.tsv\" and include a header row with the column names \"date\" and the 6 stock ticker symbols.\n",
        "The date should be the last trading day of the month, so it may not be the last day of the month.\n",
        "For example, the last trading day of November 2024 was 2024-11-29.\n",
        "The remaining columns should contain the adjusted closing prices of the corresponding stock tickers on that day.\n"
      ]
    },
    {
      "cell_type": "code",
      "execution_count": 2,
      "metadata": {
        "id": "mHbwKHOhtQ3E"
      },
      "outputs": [
        {
          "name": "stdout",
          "output_type": "stream",
          "text": [
            "\n",
            "Data saved to 'historical_prices.tsv'\n"
          ]
        }
      ],
      "source": [
        "# YOUR CHANGES HERE\n",
        "historical_prices.to_csv('historical_prices.tsv', sep='\\t', index=False)\n",
        "print(\"\\nData saved to 'historical_prices.tsv'\")"
      ]
    },
    {
      "cell_type": "markdown",
      "metadata": {
        "id": "2hp0yuXPtT9V"
      },
      "source": [
        "Submit \"historical_prices.tsv\" in Gradescope."
      ]
    },
    {
      "cell_type": "markdown",
      "metadata": {
        "id": "7XdNVWWirUd5"
      },
      "source": [
        "## Part 2: Calculate Historical Asset Returns\n",
        "\n",
        "Calculate the historical asset returns based on the price data that you previously collected."
      ]
    },
    {
      "cell_type": "code",
      "execution_count": 3,
      "metadata": {
        "id": "aL-kVua2xex-"
      },
      "outputs": [
        {
          "name": "stdout",
          "output_type": "stream",
          "text": [
            "Columns in your data: ['date', 'AAPL', 'SPY', 'TSLA', 'YETI', 'MSFT', 'NVDA']\n",
            "First few rows:\n",
            "         date        AAPL         SPY        TSLA       YETI        MSFT  \\\n",
            "0  2023-10-31  169.113556  408.794403  200.839996  42.520000  333.090332   \n",
            "1  2023-11-30  188.355331  446.135193  240.080002  42.639999  374.042267   \n",
            "2  2023-12-31  190.913666  466.503693  248.479996  51.779999  371.209137   \n",
            "3  2024-01-31  182.851929  473.933441  187.289993  43.970001  392.472412   \n",
            "4  2024-02-29  179.461243  498.666504  201.880005  41.040001  409.081238   \n",
            "\n",
            "        NVDA  \n",
            "0  40.758278  \n",
            "1  46.745087  \n",
            "2  49.499973  \n",
            "3  61.499630  \n",
            "4  79.076813  \n",
            "\n",
            "Numeric columns found: ['AAPL', 'SPY', 'TSLA', 'YETI', 'MSFT', 'NVDA']\n",
            "\n",
            "Historical returns calculated:\n",
            "Shape: (23, 6)\n",
            "       AAPL       SPY      TSLA      YETI      MSFT      NVDA\n",
            "1  0.113780  0.091344  0.195379  0.002822  0.122945  0.146886\n",
            "2  0.013582  0.045655  0.034988  0.214353 -0.007574  0.058934\n",
            "3 -0.042227  0.015926 -0.246257 -0.150830  0.057281  0.242417\n",
            "4 -0.018543  0.052187  0.077901 -0.066636  0.042318  0.285810\n",
            "5 -0.051286  0.032702 -0.129235 -0.060673  0.017116  0.142181\n",
            "\n",
            "Final returns data with date column:\n",
            "         date      AAPL       SPY      TSLA      YETI      MSFT      NVDA\n",
            "0  2023-11-30  0.113780  0.091344  0.195379  0.002822  0.122945  0.146886\n",
            "1  2023-12-31  0.013582  0.045655  0.034988  0.214353 -0.007574  0.058934\n",
            "2  2024-01-31 -0.042227  0.015926 -0.246257 -0.150830  0.057281  0.242417\n",
            "3  2024-02-29 -0.018543  0.052187  0.077901 -0.066636  0.042318  0.285810\n",
            "4  2024-03-31 -0.051286  0.032702 -0.129235 -0.060673  0.017116  0.142181\n",
            "Shape: (23, 7)\n",
            "Columns: ['date', 'AAPL', 'SPY', 'TSLA', 'YETI', 'MSFT', 'NVDA']\n"
          ]
        }
      ],
      "source": [
        "# YOUR CHANGES HERE\n",
        "\n",
        "import pandas as pd\n",
        "import numpy as np\n",
        "\n",
        "historical_prices = pd.read_csv('historical_prices.tsv', sep='\\t')\n",
        "\n",
        "print(\"Columns in your data:\", historical_prices.columns.tolist())\n",
        "print(\"First few rows:\")\n",
        "print(historical_prices.head())\n",
        "\n",
        "numeric_columns = historical_prices.select_dtypes(include=[np.number]).columns\n",
        "print(f\"\\nNumeric columns found: {numeric_columns.tolist()}\")\n",
        "\n",
        "historical_returns = historical_prices[numeric_columns].pct_change().dropna()\n",
        "\n",
        "print(f\"\\nHistorical returns calculated:\")\n",
        "print(f\"Shape: {historical_returns.shape}\")\n",
        "print(historical_returns.head())\n",
        "\n",
        "dates_for_returns = historical_prices['date'].iloc[1:].reset_index(drop=True)\n",
        "\n",
        "stock_columns = ['AAPL', 'SPY', 'TSLA', 'YETI', 'MSFT', 'NVDA']\n",
        "returns_only = historical_returns[stock_columns].reset_index(drop=True)\n",
        "\n",
        "returns_data = pd.concat([\n",
        "    dates_for_returns.rename('date'),\n",
        "    returns_only\n",
        "], axis=1)\n",
        "\n",
        "print(\"\\nFinal returns data with date column:\")\n",
        "print(returns_data.head())\n",
        "print(f\"Shape: {returns_data.shape}\")\n",
        "print(f\"Columns: {returns_data.columns.tolist()}\")"
      ]
    },
    {
      "cell_type": "markdown",
      "metadata": {
        "id": "OjhEYCWOrIu3"
      },
      "source": [
        "Save the data as a TSV file named \"historical_returns.tsv\" and include a header row with the column names \"date\" and the 6 stock ticker symbols.\n",
        "Each row should have the date at the end of the month and the corresponding *relative* price changes.\n",
        "For example, if the previous price was \\$100 and the new price is \\$110, the return value should be 0.10.\n",
        "There should only be 23 rows of data in this file, since they are computed as the differences of 24 prices."
      ]
    },
    {
      "cell_type": "code",
      "execution_count": 4,
      "metadata": {
        "id": "cN-7q9QvvyKG"
      },
      "outputs": [
        {
          "name": "stdout",
          "output_type": "stream",
          "text": [
            "Historical returns saved to 'historical_returns.tsv'\n"
          ]
        }
      ],
      "source": [
        "# YOUR CHANGES HERE\n",
        "\n",
        "returns_data.to_csv('historical_returns.tsv', sep='\\t', index=False)\n",
        "print(\"Historical returns saved to 'historical_returns.tsv'\")"
      ]
    },
    {
      "cell_type": "markdown",
      "metadata": {
        "id": "vyBtnCTUtfRq"
      },
      "source": [
        "Submit \"historical_returns.tsv\" in Gradescope."
      ]
    },
    {
      "cell_type": "markdown",
      "metadata": {
        "id": "MoCkf4ouV9IA"
      },
      "source": [
        "## Part 3: Estimate Returns\n",
        "\n",
        "Estimate the expected returns for each asset using the previously calculated return data.\n",
        "Just compute the average (mean) return for each asset over your data set; do not use other estimators that have been mentioned.\n",
        "This will serve as your estimate of expected return for each asset."
      ]
    },
    {
      "cell_type": "code",
      "execution_count": 5,
      "metadata": {
        "id": "N2iDEhSRxd2n"
      },
      "outputs": [
        {
          "name": "stdout",
          "output_type": "stream",
          "text": [
            "Historical returns data loaded:\n",
            "Shape: (23, 7)\n",
            "         date      AAPL       SPY      TSLA      YETI      MSFT      NVDA\n",
            "0  2023-11-30  0.113780  0.091344  0.195379  0.002822  0.122945  0.146886\n",
            "1  2023-12-31  0.013582  0.045655  0.034988  0.214353 -0.007574  0.058934\n",
            "2  2024-01-31 -0.042227  0.015926 -0.246257 -0.150830  0.057281  0.242417\n",
            "3  2024-02-29 -0.018543  0.052187  0.077901 -0.066636  0.042318  0.285810\n",
            "4  2024-03-31 -0.051286  0.032702 -0.129235 -0.060673  0.017116  0.142181\n",
            "\n",
            "Stock columns: ['AAPL', 'SPY', 'TSLA', 'YETI', 'MSFT', 'NVDA']\n",
            "\n",
            "Calculated mean returns:\n",
            "AAPL    0.016968\n",
            "SPY     0.020758\n",
            "TSLA    0.036103\n",
            "YETI   -0.002163\n",
            "MSFT    0.019236\n",
            "NVDA    0.069567\n",
            "dtype: float64\n",
            "  asset  estimated_return\n",
            "0  AAPL          0.016968\n",
            "1   SPY          0.020758\n",
            "2  TSLA          0.036103\n",
            "3  YETI         -0.002163\n",
            "4  MSFT          0.019236\n",
            "5  NVDA          0.069567\n",
            "\n",
            "Interpretation:\n",
            "AAPL: 0.016968 monthly (20.36% annualized)\n",
            "SPY: 0.020758 monthly (24.91% annualized)\n",
            "TSLA: 0.036103 monthly (43.32% annualized)\n",
            "YETI: -0.002163 monthly (-2.60% annualized)\n",
            "MSFT: 0.019236 monthly (23.08% annualized)\n",
            "NVDA: 0.069567 monthly (83.48% annualized)\n"
          ]
        }
      ],
      "source": [
        "# YOUR CHANGES HERE\n",
        "\n",
        "import pandas as pd\n",
        "\n",
        "historical_returns_df = pd.read_csv('historical_returns.tsv', sep='\\t')\n",
        "\n",
        "print(\"Historical returns data loaded:\")\n",
        "print(f\"Shape: {historical_returns_df.shape}\")\n",
        "print(historical_returns_df.head())\n",
        "\n",
        "stock_columns = [col for col in historical_returns_df.columns if col != 'date']\n",
        "print(f\"\\nStock columns: {stock_columns}\")\n",
        "\n",
        "mean_returns = historical_returns_df[stock_columns].mean()\n",
        "\n",
        "print(\"\\nCalculated mean returns:\")\n",
        "print(mean_returns)\n",
        "\n",
        "original_order = ['AAPL', 'SPY', 'TSLA', 'YETI', 'MSFT', 'NVDA']\n",
        "estimated_returns_df = pd.DataFrame({\n",
        "    'asset': mean_returns.index,\n",
        "    'estimated_return': mean_returns.values\n",
        "})\n",
        "\n",
        "print(estimated_returns_df)\n",
        "\n",
        "print(\"\\nInterpretation:\")\n",
        "for _, row in estimated_returns_df.iterrows():\n",
        "    asset = row['asset']\n",
        "    return_val = row['estimated_return']\n",
        "    annual_return = return_val * 12  # Convert monthly to approximate annual\n",
        "    print(f\"{asset}: {return_val:.6f} monthly ({annual_return:.2%} annualized)\")"
      ]
    },
    {
      "cell_type": "markdown",
      "metadata": {
        "id": "e5YTEwoarM2M"
      },
      "source": [
        "Save the estimated returns in a TSV file named \"estimated_returns.tsv\" and include a header row with the column names \"asset\" and \"estimated_return\"."
      ]
    },
    {
      "cell_type": "code",
      "execution_count": 6,
      "metadata": {
        "id": "At71YDpwvwUw"
      },
      "outputs": [
        {
          "name": "stdout",
          "output_type": "stream",
          "text": [
            "Estimated returns saved to 'estimated_returns.tsv'\n"
          ]
        }
      ],
      "source": [
        "# YOUR CHANGES HERE\n",
        "estimated_returns_df.to_csv('estimated_returns.tsv', sep='\\t', index=False)\n",
        "print(\"Estimated returns saved to 'estimated_returns.tsv'\")\n",
        "    "
      ]
    },
    {
      "cell_type": "markdown",
      "metadata": {
        "id": "cjfnF-2Wtj6r"
      },
      "source": [
        "Submit \"estimated_returns.tsv\" in Gradescope."
      ]
    },
    {
      "cell_type": "markdown",
      "metadata": {
        "id": "VTuIqrkAWXVL"
      },
      "source": [
        "## Part 4: Estimate Risk\n",
        "\n",
        "Estimate the covariance matrix for the asset returns to understand how the assets move together."
      ]
    },
    {
      "cell_type": "code",
      "execution_count": 7,
      "metadata": {
        "id": "RFZfIkTMxcv7"
      },
      "outputs": [
        {
          "name": "stdout",
          "output_type": "stream",
          "text": [
            "Original covariance matrix:\n",
            "          AAPL       SPY      TSLA      YETI      MSFT      NVDA\n",
            "AAPL  0.003623  0.000784  0.003075  0.002191  0.000398  0.000768\n",
            "SPY   0.000784  0.001225  0.001971  0.001676  0.001616  0.002673\n",
            "TSLA  0.003075  0.001971  0.024358  0.005674  0.002690 -0.001848\n",
            "YETI  0.002191  0.001676  0.005674  0.010036  0.001532  0.001264\n",
            "MSFT  0.000398  0.001616  0.002690  0.001532  0.004022  0.005432\n",
            "NVDA  0.000768  0.002673 -0.001848  0.001264  0.005432  0.014287\n",
            "\n",
            "Fixed covariance matrix (with blank index name):\n",
            "          AAPL       SPY      TSLA      YETI      MSFT      NVDA\n",
            "                                                                \n",
            "AAPL  0.003623  0.000784  0.003075  0.002191  0.000398  0.000768\n",
            "SPY   0.000784  0.001225  0.001971  0.001676  0.001616  0.002673\n",
            "TSLA  0.003075  0.001971  0.024358  0.005674  0.002690 -0.001848\n",
            "YETI  0.002191  0.001676  0.005674  0.010036  0.001532  0.001264\n",
            "MSFT  0.000398  0.001616  0.002690  0.001532  0.004022  0.005432\n",
            "NVDA  0.000768  0.002673 -0.001848  0.001264  0.005432  0.014287\n",
            "\n",
            "Verifying file format:\n",
            "Header row: 'AAPL\tSPY\tTSLA\tYETI\tMSFT\tNVDA'\n",
            "First data row: 'AAPL\t0.0036228144181091296\t0.0007839637290341314\t0.003074805521474784\t0.002190966727560928\t0.0003984572872681792\t0.0007677393291777606'\n"
          ]
        }
      ],
      "source": [
        "# YOUR CHANGES HERE\n",
        "\n",
        "import pandas as pd\n",
        "\n",
        "historical_returns_df = pd.read_csv('historical_returns.tsv', sep='\\t')\n",
        "\n",
        "stock_columns = [col for col in historical_returns_df.columns if col != 'date']\n",
        "\n",
        "returns_data = historical_returns_df[stock_columns]\n",
        "covariance_matrix = returns_data.cov()\n",
        "\n",
        "print(\"Original covariance matrix:\")\n",
        "print(covariance_matrix)\n",
        "\n",
        "covariance_matrix.index.name = ''  \n",
        "\n",
        "print(f\"\\nFixed covariance matrix (with blank index name):\")\n",
        "print(covariance_matrix)\n",
        "\n",
        "print(f\"\\nVerifying file format:\")\n",
        "with open('estimated_covariance.tsv', 'r') as f:\n",
        "    lines = f.readlines()\n",
        "    print(f\"Header row: '{lines[0].strip()}'\")\n",
        "    print(f\"First data row: '{lines[1].strip()}'\")"
      ]
    },
    {
      "cell_type": "markdown",
      "metadata": {
        "id": "sOmn4s_yr5qn"
      },
      "source": [
        "Save the estimated covariances to a TSV file named \"estimated_covariance.tsv\".\n",
        "The header row should have a blank column name followed by the names of the assets.\n",
        "Each data row should start with the name of an asset for that row, and be followed by the individual covariances corresponding to that row and column's assets.\n",
        "(This is the format of pandas's `to_csv` method with `sep=\"\\t\"` when used on a covariance matrix as computed in the examples.)"
      ]
    },
    {
      "cell_type": "code",
      "execution_count": 8,
      "metadata": {
        "id": "Te-NPQxSvuXm"
      },
      "outputs": [
        {
          "name": "stdout",
          "output_type": "stream",
          "text": [
            "Covariance matrix saved to 'estimated_covariance.tsv'\n"
          ]
        }
      ],
      "source": [
        "# YOUR CHANGES HERE\n",
        "\n",
        "covariance_matrix.to_csv('estimated_covariance.tsv', sep='\\t')\n",
        "print(\"Covariance matrix saved to 'estimated_covariance.tsv'\")"
      ]
    },
    {
      "cell_type": "markdown",
      "metadata": {
        "id": "lS9vek0btoK6"
      },
      "source": [
        "Submit \"estimated_covariance.tsv\" in Gradescope."
      ]
    },
    {
      "cell_type": "markdown",
      "metadata": {
        "id": "C8rC5Eo3sEme"
      },
      "source": [
        "## Part 5: Construct the Maximum Return Portfolio\n",
        "\n",
        "Compute the maximum return portfolio based on your previously estimated risks and returns."
      ]
    },
    {
      "cell_type": "code",
      "execution_count": 9,
      "metadata": {
        "id": "8LW0KKm-xb2I"
      },
      "outputs": [
        {
          "name": "stdout",
          "output_type": "stream",
          "text": [
            "Estimated returns data:\n",
            "  asset  estimated_return\n",
            "0  AAPL          0.016968\n",
            "1   SPY          0.020758\n",
            "2  TSLA          0.036103\n",
            "3  YETI         -0.002163\n",
            "4  MSFT          0.019236\n",
            "5  NVDA          0.069567\n",
            "\n",
            "Asset with highest expected return:\n",
            "Asset: NVDA\n",
            "Expected return: 0.069567\n",
            "\n",
            "Maximum Return Portfolio:\n",
            "  asset  allocation\n",
            "0  AAPL         0.0\n",
            "1   SPY         0.0\n",
            "2  TSLA         0.0\n",
            "3  YETI         0.0\n",
            "4  MSFT         0.0\n",
            "5  NVDA         1.0\n",
            "\n",
            "Total allocation: 1.000000 (should be 1.0)\n",
            "Portfolio expected return: 0.069567\n"
          ]
        }
      ],
      "source": [
        "# YOUR CHANGES HERE\n",
        "\n",
        "import pandas as pd\n",
        "import numpy as np\n",
        "\n",
        "estimated_returns_df = pd.read_csv('estimated_returns.tsv', sep='\\t')\n",
        "\n",
        "print(\"Estimated returns data:\")\n",
        "print(estimated_returns_df)\n",
        "\n",
        "max_return_idx = estimated_returns_df['estimated_return'].idxmax()\n",
        "best_asset = estimated_returns_df.loc[max_return_idx, 'asset']\n",
        "max_return_value = estimated_returns_df.loc[max_return_idx, 'estimated_return']\n",
        "\n",
        "print(f\"\\nAsset with highest expected return:\")\n",
        "print(f\"Asset: {best_asset}\")\n",
        "print(f\"Expected return: {max_return_value:.6f}\")\n",
        "\n",
        "all_assets = estimated_returns_df['asset'].tolist()\n",
        "allocations = []\n",
        "\n",
        "for asset in all_assets:\n",
        "    if asset == best_asset:\n",
        "        allocation = 1.0  \n",
        "    else:\n",
        "        allocation = 0.0  \n",
        "    allocations.append(allocation)\n",
        "\n",
        "max_return_portfolio = pd.DataFrame({\n",
        "    'asset': all_assets,\n",
        "    'allocation': allocations\n",
        "})\n",
        "\n",
        "print(f\"\\nMaximum Return Portfolio:\")\n",
        "print(max_return_portfolio)\n",
        "\n",
        "total_allocation = max_return_portfolio['allocation'].sum()\n",
        "print(f\"\\nTotal allocation: {total_allocation:.6f} (should be 1.0)\")\n",
        "\n",
        "portfolio_return = (max_return_portfolio['allocation'] * \n",
        "                   estimated_returns_df['estimated_return']).sum()\n",
        "print(f\"Portfolio expected return: {portfolio_return:.6f}\")"
      ]
    },
    {
      "cell_type": "markdown",
      "metadata": {
        "id": "jjPOxui5sLTD"
      },
      "source": [
        "Save the maximum return portfolio in a TSV file named \"maximum_return.tsv\".\n",
        "The header row should have two columns, \"asset\" and \"allocation\".\n",
        "The allocation values should sum up to one.\n"
      ]
    },
    {
      "cell_type": "code",
      "execution_count": 10,
      "metadata": {
        "id": "xLl_j8z1vtiT"
      },
      "outputs": [
        {
          "name": "stdout",
          "output_type": "stream",
          "text": [
            "Maximum return portfolio saved to 'maximum_return.tsv'\n"
          ]
        }
      ],
      "source": [
        "# YOUR CHANGES HERE\n",
        "\n",
        "max_return_portfolio.to_csv('maximum_return.tsv', sep='\\t', index=False, float_format='%.6f')\n",
        "print(\"Maximum return portfolio saved to 'maximum_return.tsv'\")"
      ]
    },
    {
      "cell_type": "markdown",
      "metadata": {
        "id": "4bm3xrxptqJ2"
      },
      "source": [
        "Submit \"maximum_return.tsv\" in Gradescope."
      ]
    },
    {
      "cell_type": "markdown",
      "metadata": {
        "id": "r_QxQ5NpsL-c"
      },
      "source": [
        "## Part 6: Construct the Minimum Risk Portfolio\n",
        "\n",
        "Compute the minimum return portfolio based on your previously estimated risks and returns."
      ]
    },
    {
      "cell_type": "code",
      "execution_count": 51,
      "metadata": {
        "id": "daHSqhv9xbIF"
      },
      "outputs": [
        {
          "name": "stdout",
          "output_type": "stream",
          "text": [
            "Minimum risk portfolio calculated using CVXPy\n",
            "Optimization status: optimal\n",
            "Weights sum: 1.0\n"
          ]
        }
      ],
      "source": [
        "# YOUR CHANGES HERE\n",
        "\n",
        "import pandas as pd\n",
        "import numpy as np\n",
        "import cvxpy as cp\n",
        "\n",
        "estimated_returns_df = pd.read_csv(\"estimated_returns.tsv\", sep=\"\\t\")\n",
        "estimated_covariance = pd.read_csv(\"estimated_covariance.tsv\", sep=\"\\t\", index_col=0)\n",
        "\n",
        "assets = estimated_returns_df['asset'].tolist()\n",
        "estimated_covariance = estimated_covariance.reindex(index=assets, columns=assets)\n",
        "estimated_returns = estimated_returns_df.set_index('asset')['estimated_return'].reindex(assets)\n",
        "\n",
        "n = len(estimated_returns)\n",
        "x_minimum_risk = cp.Variable(n)\n",
        "\n",
        "objective_minimum_risk = cp.Minimize(x_minimum_risk.T @ estimated_covariance.to_numpy() @ x_minimum_risk)\n",
        "\n",
        "prob_minimum_risk = cp.Problem(objective_minimum_risk, \n",
        "                              [0 <= x_minimum_risk, \n",
        "                               cp.sum(x_minimum_risk) == 1])\n",
        "\n",
        "covariance_minimum_risk = prob_minimum_risk.solve()\n",
        "\n",
        "if prob_minimum_risk.status != cp.OPTIMAL:\n",
        "    raise RuntimeError(f\"CVXPy optimization failed: {prob_minimum_risk.status}\")\n",
        "\n",
        "min_risk_weights = x_minimum_risk.value\n",
        "\n",
        "print(\"Minimum risk portfolio calculated using CVXPy\")\n",
        "print(f\"Optimization status: {prob_minimum_risk.status}\")\n",
        "print(f\"Weights sum: {min_risk_weights.sum()}\")\n"
      ]
    },
    {
      "cell_type": "markdown",
      "metadata": {
        "id": "wzldkIPxsQor"
      },
      "source": [
        "Save the minimum risk portfolio in a TSV file named \"minimum_risk.tsv\".\n",
        "The header row should have two columns, \"asset\" and \"allocation\".\n",
        "The allocation values should sum up to one.\n"
      ]
    },
    {
      "cell_type": "code",
      "execution_count": 52,
      "metadata": {
        "id": "YRXccAflvrBZ"
      },
      "outputs": [
        {
          "name": "stdout",
          "output_type": "stream",
          "text": [
            "Minimum risk portfolio saved to minimum_risk.tsv\n",
            "  asset    allocation\n",
            "0  AAPL  1.345446e-01\n",
            "1   SPY  8.654554e-01\n",
            "2  TSLA -1.957845e-21\n",
            "3  YETI -1.414751e-20\n",
            "4  MSFT -4.997472e-20\n",
            "5  NVDA -6.419999e-20\n"
          ]
        }
      ],
      "source": [
        "# YOUR CHANGES HERE\n",
        "\n",
        "min_risk_df = pd.DataFrame({\n",
        "    \"asset\": assets,\n",
        "    \"allocation\": min_risk_weights\n",
        "})\n",
        "\n",
        "min_risk_df.to_csv(\"minimum_risk.tsv\", sep=\"\\t\", index=False)\n",
        "print(\"Minimum risk portfolio saved to minimum_risk.tsv\")\n",
        "print(min_risk_df)\n"
      ]
    },
    {
      "cell_type": "markdown",
      "metadata": {
        "id": "P5gy_XETtsoi"
      },
      "source": [
        "Submit \"minimum_risk.tsv\" in Gradescope."
      ]
    },
    {
      "cell_type": "markdown",
      "metadata": {
        "id": "mzyJGWDvWhva"
      },
      "source": [
        "## Part 7: Build Efficient Frontier Portfolios\n",
        "\n",
        "Compute 101 portfolios along the mean-variance efficient frontier with evenly spaced estimated returns.\n",
        "The first portfolio should be the minimum risk portfolio from part 4, and the last portfolio should be the maximum return portfolio from part 3.\n",
        "The estimated return of each portfolio should be higher than the previous by one percent of the difference between the first and last portfolios.\n",
        "That is, the estimated return of the portfolios should be similar to `np.linspace(min_risk_return, max_return, 101)`.\n"
      ]
    },
    {
      "cell_type": "code",
      "execution_count": null,
      "metadata": {
        "id": "XaR6mKwvxZ4W"
      },
      "outputs": [],
      "source": [
        "# YOUR CHANGES HERE\n",
        "\n",
        "import numpy as np\n",
        "import pandas as pd\n",
        "import cvxpy as cp\n",
        "from scipy.optimize import minimize\n",
        "\n",
        "est = pd.read_csv(\"estimated_returns.tsv\", sep=\"\\t\")\n",
        "estimated_covariance = pd.read_csv(\"estimated_covariance.tsv\", sep=\"\\t\", index_col=0)\n",
        "\n",
        "assets = est['asset'].tolist()\n",
        "estimated_covariance = estimated_covariance.reindex(index=assets, columns=assets)\n",
        "mu_vec = est.set_index('asset')['estimated_return'].reindex(assets).values\n",
        "Sigma = estimated_covariance.to_numpy()\n",
        "n = len(assets)\n",
        "\n",
        "x_minimum_risk = cp.Variable(n)\n",
        "objective_minimum_risk = cp.Minimize(x_minimum_risk.T @ Sigma @ x_minimum_risk)\n",
        "prob_minimum_risk = cp.Problem(objective_minimum_risk, [0 <= x_minimum_risk, cp.sum(x_minimum_risk) == 1])\n",
        "prob_minimum_risk.solve()\n",
        "w_gmv = x_minimum_risk.value\n",
        "r_gmv = float(w_gmv @ mu_vec)\n",
        "\n",
        "best_asset_idx = np.argmax(mu_vec)\n",
        "w_max = np.zeros(n)\n",
        "w_max[best_asset_idx] = 1.0\n",
        "r_max = float(w_max @ mu_vec)\n",
        "\n",
        "targets = np.linspace(r_gmv, r_max, 101)\n",
        "\n",
        "def min_var_for_target(Sigma, mu_vec, target):\n",
        "    x = cp.Variable(n)\n",
        "    objective = cp.Minimize(x.T @ Sigma @ x)\n",
        "    constraints = [0 <= x, cp.sum(x) == 1, x.T @ mu_vec == target]\n",
        "    prob = cp.Problem(objective, constraints)\n",
        "    prob.solve()\n",
        "    return prob, x.value\n",
        "\n",
        "records = []\n",
        "\n",
        "for i, tr in enumerate(targets):\n",
        "    if i == 0:\n",
        "        w_sol = w_gmv\n",
        "        r_port = r_gmv\n",
        "    elif i == 100:\n",
        "        w_sol = w_max\n",
        "        r_port = r_max\n",
        "    else:\n",
        "        prob, w_sol = min_var_for_target(Sigma, mu_vec, tr)\n",
        "        if w_sol is None:\n",
        "            alpha = i / 100.0\n",
        "            w_sol = (1 - alpha) * w_gmv + alpha * w_max\n",
        "        r_port = float(w_sol @ mu_vec)\n",
        "    \n",
        "    vol_port = float(np.sqrt(w_sol @ Sigma @ w_sol))\n",
        "    record = [i, r_port, vol_port] + list(w_sol)\n",
        "    records.append(record)\n",
        "columns = [\"index\", \"return\", \"risk\"] + assets\n",
        "frontier = pd.DataFrame(records, columns=columns)"
      ]
    },
    {
      "cell_type": "markdown",
      "metadata": {
        "id": "8e3WwTJvsDzh"
      },
      "source": [
        "Save the portfolios in a TSV file named \"efficient_frontier.tsv\".\n",
        "The header row should have columns \"index\", \"return\", \"risk\", and all the asset tickers.\n",
        "Each data row should have the portfolio index (0-100), the estimated return of the portfolio, the estimated standard deviation (not variance) of the portfolio, and all the asset allocations (which should sum to one)."
      ]
    },
    {
      "cell_type": "code",
      "execution_count": 56,
      "metadata": {
        "id": "e9DKadyNvniT"
      },
      "outputs": [
        {
          "name": "stdout",
          "output_type": "stream",
          "text": [
            "Efficient frontier saved to 'efficient_frontier.tsv'\n"
          ]
        }
      ],
      "source": [
        "# YOUR CHANGES HERE\n",
        "\n",
        "frontier.to_csv(\"efficient_frontier.tsv\", sep=\"\\t\", index=False)\n",
        "print(\"Efficient frontier saved to 'efficient_frontier.tsv'\")"
      ]
    },
    {
      "cell_type": "markdown",
      "metadata": {
        "id": "jiOa06rItvbs"
      },
      "source": [
        "Submit \"efficient_frontier.tsv\" in Gradescope."
      ]
    },
    {
      "cell_type": "markdown",
      "metadata": {
        "id": "LoW0XBXAzzR6"
      },
      "source": [
        "## Part 8: Check Maximum Return Portfolio Stability\n",
        "\n",
        "Check the stability of the maximum return portfolio by resampling the estimated risk/return model.\n",
        "\n",
        "Repeat 1000 times -\n",
        "1. Use `np.random.multivariate_normal` to generate 23 return samples using your previously estimated risks and returns.\n",
        "2. Estimate the return of each asset using that resampled return history.\n",
        "3. Check which asset had the highest return in those resampled estimates.\n",
        "\n",
        "This procedure is a reduced and simplified version of the Michaud resampled efficient frontier procedure that takes uncertainty in the risk model into account."
      ]
    },
    {
      "cell_type": "code",
      "execution_count": 37,
      "metadata": {
        "id": "Xfke5V57xYvT"
      },
      "outputs": [
        {
          "name": "stdout",
          "output_type": "stream",
          "text": [
            "Data loaded for stability check\n",
            "Assets: ['AAPL', 'SPY', 'TSLA', 'YETI', 'MSFT', 'NVDA']\n",
            "Original expected returns: [ 0.01696782  0.02075796  0.0361031  -0.00216279  0.0192359   0.06956662]\n",
            "Original maximum return asset: NVDA\n",
            "\n",
            "Running 1000 Monte Carlo simulations...\n",
            "Each simulation generates 23 return samples\n",
            "Completed 200 simulations...\n",
            "Completed 400 simulations...\n",
            "Completed 600 simulations...\n",
            "Completed 800 simulations...\n",
            "Completed 1000 simulations...\n",
            "\n",
            "Simulation completed!\n",
            "\n",
            "Results summary:\n",
            "Asset with highest return in each simulation:\n",
            "AAPL: 3 times (0.003 probability)\n",
            "SPY: 0 times (0.000 probability)\n",
            "TSLA: 207 times (0.207 probability)\n",
            "YETI: 1 times (0.001 probability)\n",
            "MSFT: 0 times (0.000 probability)\n",
            "NVDA: 789 times (0.789 probability)\n",
            "\n",
            "Stability analysis:\n",
            "Original choice (NVDA) was optimal in 78.9% of simulations\n",
            " Original choice was optimal in majority of simulations\n",
            "This suggests the maximum return portfolio choice is relatively stable\n",
            "\n",
            "Assets ranked by probability of having highest return:\n",
            "  asset  probability\n",
            "5  NVDA        0.789\n",
            "2  TSLA        0.207\n",
            "0  AAPL        0.003\n",
            "3  YETI        0.001\n",
            "1   SPY        0.000\n",
            "4  MSFT        0.000\n"
          ]
        }
      ],
      "source": [
        "# YOUR CHANGES HERE\n",
        "\n",
        "import pandas as pd\n",
        "import numpy as np\n",
        "\n",
        "covariance_matrix = pd.read_csv('estimated_covariance.tsv', sep='\\t', index_col=0)\n",
        "estimated_returns_df = pd.read_csv('estimated_returns.tsv', sep='\\t')\n",
        "\n",
        "print(\"Data loaded for stability check\")\n",
        "\n",
        "assets = list(covariance_matrix.index)\n",
        "n_assets = len(assets)\n",
        "cov_matrix = covariance_matrix.values\n",
        "\n",
        "expected_returns = np.zeros(n_assets)\n",
        "for i, asset in enumerate(assets):\n",
        "    expected_returns[i] = estimated_returns_df[estimated_returns_df['asset'] == asset]['estimated_return'].iloc[0]\n",
        "\n",
        "print(f\"Assets: {assets}\")\n",
        "print(f\"Original expected returns: {expected_returns}\")\n",
        "\n",
        "original_max_asset = estimated_returns_df.loc[estimated_returns_df['estimated_return'].idxmax(), 'asset']\n",
        "print(f\"Original maximum return asset: {original_max_asset}\")\n",
        "\n",
        "n_simulations = 1000\n",
        "n_samples = 23  \n",
        "\n",
        "print(f\"\\nRunning {n_simulations} Monte Carlo simulations...\")\n",
        "print(f\"Each simulation generates {n_samples} return samples\")\n",
        "\n",
        "highest_return_assets = []\n",
        "\n",
        "np.random.seed(42)\n",
        "\n",
        "for sim in range(n_simulations):\n",
        "    simulated_returns = np.random.multivariate_normal(\n",
        "        mean=expected_returns, \n",
        "        cov=cov_matrix, \n",
        "        size=n_samples\n",
        "    )\n",
        "    \n",
        "    sim_mean_returns = np.mean(simulated_returns, axis=0)\n",
        "    \n",
        "    max_return_idx = np.argmax(sim_mean_returns)\n",
        "    highest_return_asset = assets[max_return_idx]\n",
        "    highest_return_assets.append(highest_return_asset)\n",
        "   \n",
        "    if (sim + 1) % 200 == 0:\n",
        "        print(f\"Completed {sim + 1} simulations...\")\n",
        "\n",
        "print(f\"\\nSimulation completed!\")\n",
        "\n",
        "from collections import Counter\n",
        "asset_counts = Counter(highest_return_assets)\n",
        "\n",
        "print(f\"\\nResults summary:\")\n",
        "print(f\"Asset with highest return in each simulation:\")\n",
        "for asset in assets:\n",
        "    count = asset_counts.get(asset, 0)\n",
        "    probability = count / n_simulations\n",
        "    print(f\"{asset}: {count} times ({probability:.3f} probability)\")\n",
        "\n",
        "results_df = pd.DataFrame({\n",
        "    'asset': assets,\n",
        "    'probability': [asset_counts.get(asset, 0) / n_simulations for asset in assets]\n",
        "})\n",
        "\n",
        "print(f\"\\nStability analysis:\")\n",
        "original_prob = results_df[results_df['asset'] == original_max_asset]['probability'].iloc[0]\n",
        "print(f\"Original choice ({original_max_asset}) was optimal in {original_prob:.1%} of simulations\")\n",
        "\n",
        "if original_prob < 0.5:\n",
        "    print(f\"Warning: Original choice was not optimal in majority of simulations\")\n",
        "    print(f\"This suggests the maximum return portfolio choice is not very stable\")\n",
        "else:\n",
        "    print(f\" Original choice was optimal in majority of simulations\")\n",
        "    print(f\"This suggests the maximum return portfolio choice is relatively stable\")\n",
        "   \n",
        "results_sorted = results_df.sort_values('probability', ascending=False)\n",
        "print(f\"\\nAssets ranked by probability of having highest return:\")\n",
        "print(results_sorted)"
      ]
    },
    {
      "cell_type": "markdown",
      "metadata": {
        "id": "fes_ScDyz0jp"
      },
      "source": [
        "Save a file \"max_return_probabilities.tsv\" with the distribution of highest return assets.\n",
        "The header row should have columns \"asset\" and \"probability\".\n",
        "There should be a data row for each asset and its sample probability of having the highest return based on those 1000 resampled estimates.\n"
      ]
    },
    {
      "cell_type": "code",
      "execution_count": 38,
      "metadata": {
        "id": "ZAjr15ASvj1S"
      },
      "outputs": [
        {
          "name": "stdout",
          "output_type": "stream",
          "text": [
            "Maximum return portfolio stability results saved to 'max_return_probabilities.tsv'\n"
          ]
        }
      ],
      "source": [
        "# YOUR CHANGES HERE\n",
        "\n",
        "results_df.to_csv('max_return_probabilities.tsv', sep='\\t', index=False)\n",
        "print(\"Maximum return portfolio stability results saved to 'max_return_probabilities.tsv'\")"
      ]
    },
    {
      "cell_type": "markdown",
      "metadata": {
        "id": "2Xd34FQ6txoj"
      },
      "source": [
        "Submit \"max_return_probabilities.tsv\" in Gradescope."
      ]
    },
    {
      "cell_type": "markdown",
      "metadata": {
        "id": "SYbJ21qUYvL_"
      },
      "source": [
        "## Part 9: Acknowledgments\n",
        "\n",
        "Make a file \"acknowledgments.txt\" documenting any outside sources or help on this project.\n",
        "If you discussed this assignment with anyone, please acknowledge them here.\n",
        "If you used any libraries not mentioned in this module's content, please list them with a brief explanation what you used them for.\n",
        "If you used any generative AI tools, please add links to your transcripts below, and any other information that you feel is necessary to comply with the generative AI policy.\n",
        "If no acknowledgements are appropriate, just write none in the file.\n"
      ]
    },
    {
      "cell_type": "markdown",
      "metadata": {
        "id": "H3oWYYHlt42V"
      },
      "source": [
        "Submit \"acknowledgements.txt\" in Gradescope."
      ]
    },
    {
      "cell_type": "markdown",
      "metadata": {
        "id": "b8FWiTjvwscA"
      },
      "source": [
        "## Part 10: Code\n",
        "\n",
        "Please submit a Jupyter notebook that can reproduce all your calculations and recreate the previously submitted files.\n",
        "You do not need to provide code for data collection if you did that by manually."
      ]
    },
    {
      "cell_type": "markdown",
      "metadata": {
        "id": "HDEYI-K8vcUW"
      },
      "source": [
        "Submit \"project.ipynb\" in Gradescope."
      ]
    }
  ],
  "metadata": {
    "colab": {
      "toc_visible": false
    },
    "kernelspec": {
      "display_name": "Python 3",
      "name": "python3"
    },
    "language_info": {
      "codemirror_mode": {
        "name": "ipython",
        "version": 3
      },
      "file_extension": ".py",
      "mimetype": "text/x-python",
      "name": "python",
      "nbconvert_exporter": "python",
      "pygments_lexer": "ipython3",
      "version": "3.12.1"
    }
  },
  "nbformat": 4,
  "nbformat_minor": 0
}
